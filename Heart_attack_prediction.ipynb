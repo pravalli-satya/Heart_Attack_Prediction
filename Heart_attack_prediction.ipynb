{
  "nbformat": 4,
  "nbformat_minor": 0,
  "metadata": {
    "colab": {
      "name": "Heart attack prediction.ipynb",
      "provenance": [],
      "authorship_tag": "ABX9TyN0Bs+GdlnZgWAikKd5HSS+",
      "include_colab_link": true
    },
    "kernelspec": {
      "name": "python3",
      "display_name": "Python 3"
    },
    "language_info": {
      "name": "python"
    }
  },
  "cells": [
    {
      "cell_type": "markdown",
      "metadata": {
        "id": "view-in-github",
        "colab_type": "text"
      },
      "source": [
        "<a href=\"https://colab.research.google.com/github/pravalli-satya/Heart_Attack_Prediction/blob/main/Heart_attack_prediction.ipynb\" target=\"_parent\"><img src=\"https://colab.research.google.com/assets/colab-badge.svg\" alt=\"Open In Colab\"/></a>"
      ]
    },
    {
      "cell_type": "code",
      "execution_count": null,
      "metadata": {
        "colab": {
          "resources": {
            "http://localhost:8080/nbextensions/google.colab/files.js": {
              "data": "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",
              "ok": true,
              "headers": [
                [
                  "content-type",
                  "application/javascript"
                ]
              ],
              "status": 200,
              "status_text": ""
            }
          },
          "base_uri": "https://localhost:8080/",
          "height": 73
        },
        "id": "avSQtI-d_FtZ",
        "outputId": "f627cf32-c3df-402e-8cca-f3a2a1944860"
      },
      "outputs": [
        {
          "output_type": "display_data",
          "data": {
            "text/plain": [
              "<IPython.core.display.HTML object>"
            ],
            "text/html": [
              "\n",
              "     <input type=\"file\" id=\"files-f770ba6d-630b-4dcb-8b77-d50962ac119f\" name=\"files[]\" multiple disabled\n",
              "        style=\"border:none\" />\n",
              "     <output id=\"result-f770ba6d-630b-4dcb-8b77-d50962ac119f\">\n",
              "      Upload widget is only available when the cell has been executed in the\n",
              "      current browser session. Please rerun this cell to enable.\n",
              "      </output>\n",
              "      <script src=\"/nbextensions/google.colab/files.js\"></script> "
            ]
          },
          "metadata": {}
        },
        {
          "output_type": "stream",
          "name": "stdout",
          "text": [
            "Saving archive (1).zip to archive (1).zip\n"
          ]
        }
      ],
      "source": [
        "from google.colab import files\n",
        "uploaded=files.upload()"
      ]
    },
    {
      "cell_type": "code",
      "source": [
        "import warnings\n",
        "warnings.filterwarnings('ignore')"
      ],
      "metadata": {
        "id": "hoD5nliXAc-S"
      },
      "execution_count": null,
      "outputs": []
    },
    {
      "cell_type": "code",
      "source": [
        "import numpy as np # linear algebra\n",
        "import pandas as pd # data processing, CSV file I/O (e.g. pd.read_csv)\n",
        "import matplotlib.pyplot as plt #data visualization\n",
        "import seaborn as sns\n",
        "from operator import add"
      ],
      "metadata": {
        "id": "55nUvyKUAk3t"
      },
      "execution_count": null,
      "outputs": []
    },
    {
      "cell_type": "code",
      "source": [
        "from google.colab import files\n",
        "import pandas as pd\n",
        "import numpy as np\n",
        "from sklearn.model_selection import train_test_split\n",
        "from sklearn.feature_selection import SelectKBest\n",
        "from sklearn.feature_selection import chi2"
      ],
      "metadata": {
        "id": "fWEZTEm4Ao1G"
      },
      "execution_count": null,
      "outputs": []
    },
    {
      "cell_type": "code",
      "source": [
        "files.upload()"
      ],
      "metadata": {
        "colab": {
          "resources": {
            "http://localhost:8080/nbextensions/google.colab/files.js": {
              "data": "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",
              "ok": true,
              "headers": [
                [
                  "content-type",
                  "application/javascript"
                ]
              ],
              "status": 200,
              "status_text": ""
            }
          },
          "base_uri": "https://localhost:8080/",
          "height": 110
        },
        "id": "4UGNaLEZBNu5",
        "outputId": "8fa0d8f1-87e1-442b-eddd-11688df91f17"
      },
      "execution_count": null,
      "outputs": [
        {
          "output_type": "display_data",
          "data": {
            "text/plain": [
              "<IPython.core.display.HTML object>"
            ],
            "text/html": [
              "\n",
              "     <input type=\"file\" id=\"files-79367172-c455-4d45-8c34-6e40b65f1788\" name=\"files[]\" multiple disabled\n",
              "        style=\"border:none\" />\n",
              "     <output id=\"result-79367172-c455-4d45-8c34-6e40b65f1788\">\n",
              "      Upload widget is only available when the cell has been executed in the\n",
              "      current browser session. Please rerun this cell to enable.\n",
              "      </output>\n",
              "      <script src=\"/nbextensions/google.colab/files.js\"></script> "
            ]
          },
          "metadata": {}
        },
        {
          "output_type": "stream",
          "name": "stdout",
          "text": [
            "Saving heart.csv to heart.csv\n"
          ]
        },
        {
          "output_type": "execute_result",
          "data": {
            "text/plain": [
              "{'heart.csv': b'age,sex,cp,trestbps,chol,fbs,restecg,thalach,exang,oldpeak,slope,ca,thal,target\\r\\n52,1,0,125,212,0,1,168,0,1,2,2,3,0\\r\\n53,1,0,140,203,1,0,155,1,3.1,0,0,3,0\\r\\n70,1,0,145,174,0,1,125,1,2.6,0,0,3,0\\r\\n61,1,0,148,203,0,1,161,0,0,2,1,3,0\\r\\n62,0,0,138,294,1,1,106,0,1.9,1,3,2,0\\r\\n58,0,0,100,248,0,0,122,0,1,1,0,2,1\\r\\n58,1,0,114,318,0,2,140,0,4.4,0,3,1,0\\r\\n55,1,0,160,289,0,0,145,1,0.8,1,1,3,0\\r\\n46,1,0,120,249,0,0,144,0,0.8,2,0,3,0\\r\\n54,1,0,122,286,0,0,116,1,3.2,1,2,2,0\\r\\n71,0,0,112,149,0,1,125,0,1.6,1,0,2,1\\r\\n43,0,0,132,341,1,0,136,1,3,1,0,3,0\\r\\n34,0,1,118,210,0,1,192,0,0.7,2,0,2,1\\r\\n51,1,0,140,298,0,1,122,1,4.2,1,3,3,0\\r\\n52,1,0,128,204,1,1,156,1,1,1,0,0,0\\r\\n34,0,1,118,210,0,1,192,0,0.7,2,0,2,1\\r\\n51,0,2,140,308,0,0,142,0,1.5,2,1,2,1\\r\\n54,1,0,124,266,0,0,109,1,2.2,1,1,3,0\\r\\n50,0,1,120,244,0,1,162,0,1.1,2,0,2,1\\r\\n58,1,2,140,211,1,0,165,0,0,2,0,2,1\\r\\n60,1,2,140,185,0,0,155,0,3,1,0,2,0\\r\\n67,0,0,106,223,0,1,142,0,0.3,2,2,2,1\\r\\n45,1,0,104,208,0,0,148,1,3,1,0,2,1\\r\\n63,0,2,135,252,0,0,172,0,0,2,0,2,1\\r\\n42,0,2,120,209,0,1,173,0,0,1,0,2,1\\r\\n61,0,0,145,307,0,0,146,1,1,1,0,3,0\\r\\n44,1,2,130,233,0,1,179,1,0.4,2,0,2,1\\r\\n58,0,1,136,319,1,0,152,0,0,2,2,2,0\\r\\n56,1,2,130,256,1,0,142,1,0.6,1,1,1,0\\r\\n55,0,0,180,327,0,2,117,1,3.4,1,0,2,0\\r\\n44,1,0,120,169,0,1,144,1,2.8,0,0,1,0\\r\\n50,0,1,120,244,0,1,162,0,1.1,2,0,2,1\\r\\n57,1,0,130,131,0,1,115,1,1.2,1,1,3,0\\r\\n70,1,2,160,269,0,1,112,1,2.9,1,1,3,0\\r\\n50,1,2,129,196,0,1,163,0,0,2,0,2,1\\r\\n46,1,2,150,231,0,1,147,0,3.6,1,0,2,0\\r\\n51,1,3,125,213,0,0,125,1,1.4,2,1,2,1\\r\\n59,1,0,138,271,0,0,182,0,0,2,0,2,1\\r\\n64,1,0,128,263,0,1,105,1,0.2,1,1,3,1\\r\\n57,1,2,128,229,0,0,150,0,0.4,1,1,3,0\\r\\n65,0,2,160,360,0,0,151,0,0.8,2,0,2,1\\r\\n54,1,2,120,258,0,0,147,0,0.4,1,0,3,1\\r\\n61,0,0,130,330,0,0,169,0,0,2,0,2,0\\r\\n46,1,0,120,249,0,0,144,0,0.8,2,0,3,0\\r\\n55,0,1,132,342,0,1,166,0,1.2,2,0,2,1\\r\\n42,1,0,140,226,0,1,178,0,0,2,0,2,1\\r\\n41,1,1,135,203,0,1,132,0,0,1,0,1,1\\r\\n66,0,0,178,228,1,1,165,1,1,1,2,3,0\\r\\n66,0,2,146,278,0,0,152,0,0,1,1,2,1\\r\\n60,1,0,117,230,1,1,160,1,1.4,2,2,3,0\\r\\n58,0,3,150,283,1,0,162,0,1,2,0,2,1\\r\\n57,0,0,140,241,0,1,123,1,0.2,1,0,3,0\\r\\n38,1,2,138,175,0,1,173,0,0,2,4,2,1\\r\\n49,1,2,120,188,0,1,139,0,2,1,3,3,0\\r\\n55,1,0,140,217,0,1,111,1,5.6,0,0,3,0\\r\\n55,1,0,140,217,0,1,111,1,5.6,0,0,3,0\\r\\n56,1,3,120,193,0,0,162,0,1.9,1,0,3,1\\r\\n48,1,1,130,245,0,0,180,0,0.2,1,0,2,1\\r\\n67,1,2,152,212,0,0,150,0,0.8,1,0,3,0\\r\\n57,1,1,154,232,0,0,164,0,0,2,1,2,0\\r\\n29,1,1,130,204,0,0,202,0,0,2,0,2,1\\r\\n66,0,2,146,278,0,0,152,0,0,1,1,2,1\\r\\n67,1,0,100,299,0,0,125,1,0.9,1,2,2,0\\r\\n59,1,2,150,212,1,1,157,0,1.6,2,0,2,1\\r\\n29,1,1,130,204,0,0,202,0,0,2,0,2,1\\r\\n59,1,3,170,288,0,0,159,0,0.2,1,0,3,0\\r\\n53,1,2,130,197,1,0,152,0,1.2,0,0,2,1\\r\\n42,1,0,136,315,0,1,125,1,1.8,1,0,1,0\\r\\n37,0,2,120,215,0,1,170,0,0,2,0,2,1\\r\\n62,0,0,160,164,0,0,145,0,6.2,0,3,3,0\\r\\n59,1,0,170,326,0,0,140,1,3.4,0,0,3,0\\r\\n61,1,0,140,207,0,0,138,1,1.9,2,1,3,0\\r\\n56,1,0,125,249,1,0,144,1,1.2,1,1,2,0\\r\\n59,1,0,140,177,0,1,162,1,0,2,1,3,0\\r\\n48,1,0,130,256,1,0,150,1,0,2,2,3,0\\r\\n47,1,2,138,257,0,0,156,0,0,2,0,2,1\\r\\n48,1,2,124,255,1,1,175,0,0,2,2,2,1\\r\\n63,1,0,140,187,0,0,144,1,4,2,2,3,0\\r\\n52,1,1,134,201,0,1,158,0,0.8,2,1,2,1\\r\\n52,1,1,134,201,0,1,158,0,0.8,2,1,2,1\\r\\n50,1,2,140,233,0,1,163,0,0.6,1,1,3,0\\r\\n49,1,2,118,149,0,0,126,0,0.8,2,3,2,0\\r\\n46,1,2,150,231,0,1,147,0,3.6,1,0,2,0\\r\\n38,1,2,138,175,0,1,173,0,0,2,4,2,1\\r\\n37,0,2,120,215,0,1,170,0,0,2,0,2,1\\r\\n44,1,1,120,220,0,1,170,0,0,2,0,2,1\\r\\n58,1,2,140,211,1,0,165,0,0,2,0,2,1\\r\\n59,0,0,174,249,0,1,143,1,0,1,0,2,0\\r\\n62,0,0,140,268,0,0,160,0,3.6,0,2,2,0\\r\\n68,1,0,144,193,1,1,141,0,3.4,1,2,3,0\\r\\n54,0,2,108,267,0,0,167,0,0,2,0,2,1\\r\\n62,0,0,124,209,0,1,163,0,0,2,0,2,1\\r\\n63,1,0,140,187,0,0,144,1,4,2,2,3,0\\r\\n44,1,0,120,169,0,1,144,1,2.8,0,0,1,0\\r\\n62,1,1,128,208,1,0,140,0,0,2,0,2,1\\r\\n45,0,0,138,236,0,0,152,1,0.2,1,0,2,1\\r\\n57,0,0,128,303,0,0,159,0,0,2,1,2,1\\r\\n53,1,0,123,282,0,1,95,1,2,1,2,3,0\\r\\n65,1,0,110,248,0,0,158,0,0.6,2,2,1,0\\r\\n76,0,2,140,197,0,2,116,0,1.1,1,0,2,1\\r\\n43,0,2,122,213,0,1,165,0,0.2,1,0,2,1\\r\\n57,1,2,150,126,1,1,173,0,0.2,2,1,3,1\\r\\n54,1,1,108,309,0,1,156,0,0,2,0,3,1\\r\\n47,1,2,138,257,0,0,156,0,0,2,0,2,1\\r\\n52,1,3,118,186,0,0,190,0,0,1,0,1,1\\r\\n47,1,0,110,275,0,0,118,1,1,1,1,2,0\\r\\n51,1,0,140,299,0,1,173,1,1.6,2,0,3,0\\r\\n62,1,1,120,281,0,0,103,0,1.4,1,1,3,0\\r\\n40,1,0,152,223,0,1,181,0,0,2,0,3,0\\r\\n54,1,0,110,206,0,0,108,1,0,1,1,2,0\\r\\n44,1,0,110,197,0,0,177,0,0,2,1,2,0\\r\\n53,1,0,142,226,0,0,111,1,0,2,0,3,1\\r\\n48,1,0,130,256,1,0,150,1,0,2,2,3,0\\r\\n57,1,0,110,335,0,1,143,1,3,1,1,3,0\\r\\n59,1,2,126,218,1,1,134,0,2.2,1,1,1,0\\r\\n61,0,0,145,307,0,0,146,1,1,1,0,3,0\\r\\n63,1,0,130,254,0,0,147,0,1.4,1,1,3,0\\r\\n43,1,0,120,177,0,0,120,1,2.5,1,0,3,0\\r\\n29,1,1,130,204,0,0,202,0,0,2,0,2,1\\r\\n42,1,1,120,295,0,1,162,0,0,2,0,2,1\\r\\n54,1,1,108,309,0,1,156,0,0,2,0,3,1\\r\\n44,1,0,120,169,0,1,144,1,2.8,0,0,1,0\\r\\n60,1,0,145,282,0,0,142,1,2.8,1,2,3,0\\r\\n65,0,2,140,417,1,0,157,0,0.8,2,1,2,1\\r\\n61,1,0,120,260,0,1,140,1,3.6,1,1,3,0\\r\\n60,0,3,150,240,0,1,171,0,0.9,2,0,2,1\\r\\n66,1,0,120,302,0,0,151,0,0.4,1,0,2,1\\r\\n53,1,2,130,197,1,0,152,0,1.2,0,0,2,1\\r\\n52,1,2,138,223,0,1,169,0,0,2,4,2,1\\r\\n57,1,0,140,192,0,1,148,0,0.4,1,0,1,1\\r\\n60,0,3,150,240,0,1,171,0,0.9,2,0,2,1\\r\\n51,0,2,130,256,0,0,149,0,0.5,2,0,2,1\\r\\n41,1,1,135,203,0,1,132,0,0,1,0,1,1\\r\\n50,1,2,129,196,0,1,163,0,0,2,0,2,1\\r\\n54,1,1,108,309,0,1,156,0,0,2,0,3,1\\r\\n58,0,0,170,225,1,0,146,1,2.8,1,2,1,0\\r\\n55,0,1,132,342,0,1,166,0,1.2,2,0,2,1\\r\\n64,0,0,180,325,0,1,154,1,0,2,0,2,1\\r\\n47,1,2,138,257,0,0,156,0,0,2,0,2,1\\r\\n41,1,1,110,235,0,1,153,0,0,2,0,2,1\\r\\n57,1,0,152,274,0,1,88,1,1.2,1,1,3,0\\r\\n63,0,0,124,197,0,1,136,1,0,1,0,2,0\\r\\n61,1,3,134,234,0,1,145,0,2.6,1,2,2,0\\r\\n34,1,3,118,182,0,0,174,0,0,2,0,2,1\\r\\n47,1,0,112,204,0,1,143,0,0.1,2,0,2,1\\r\\n40,1,0,110,167,0,0,114,1,2,1,0,3,0\\r\\n51,0,2,120,295,0,0,157,0,0.6,2,0,2,1\\r\\n41,1,0,110,172,0,0,158,0,0,2,0,3,0\\r\\n52,1,3,152,298,1,1,178,0,1.2,1,0,3,1\\r\\n39,1,2,140,321,0,0,182,0,0,2,0,2,1\\r\\n58,1,0,114,318,0,2,140,0,4.4,0,3,1,0\\r\\n54,1,1,192,283,0,0,195,0,0,2,1,3,0\\r\\n58,1,0,125,300,0,0,171,0,0,2,2,3,0\\r\\n54,1,2,120,258,0,0,147,0,0.4,1,0,3,1\\r\\n63,1,0,130,330,1,0,132,1,1.8,2,3,3,0\\r\\n54,1,1,108,309,0,1,156,0,0,2,0,3,1\\r\\n40,1,3,140,199,0,1,178,1,1.4,2,0,3,1\\r\\n54,1,2,120,258,0,0,147,0,0.4,1,0,3,1\\r\\n67,0,2,115,564,0,0,160,0,1.6,1,0,3,1\\r\\n41,1,1,120,157,0,1,182,0,0,2,0,2,1\\r\\n77,1,0,125,304,0,0,162,1,0,2,3,2,0\\r\\n51,1,2,100,222,0,1,143,1,1.2,1,0,2,1\\r\\n77,1,0,125,304,0,0,162,1,0,2,3,2,0\\r\\n48,1,0,124,274,0,0,166,0,0.5,1,0,3,0\\r\\n56,1,0,125,249,1,0,144,1,1.2,1,1,2,0\\r\\n59,1,0,170,326,0,0,140,1,3.4,0,0,3,0\\r\\n56,1,0,132,184,0,0,105,1,2.1,1,1,1,0\\r\\n57,0,0,120,354,0,1,163,1,0.6,2,0,2,1\\r\\n43,1,2,130,315,0,1,162,0,1.9,2,1,2,1\\r\\n45,0,1,112,160,0,1,138,0,0,1,0,2,1\\r\\n43,1,0,150,247,0,1,171,0,1.5,2,0,2,1\\r\\n56,1,0,130,283,1,0,103,1,1.6,0,0,3,0\\r\\n56,1,1,120,240,0,1,169,0,0,0,0,2,1\\r\\n39,0,2,94,199,0,1,179,0,0,2,0,2,1\\r\\n54,1,0,110,239,0,1,126,1,2.8,1,1,3,0\\r\\n56,0,0,200,288,1,0,133,1,4,0,2,3,0\\r\\n56,1,0,130,283,1,0,103,1,1.6,0,0,3,0\\r\\n64,1,0,120,246,0,0,96,1,2.2,0,1,2,0\\r\\n44,1,0,110,197,0,0,177,0,0,2,1,2,0\\r\\n56,0,0,134,409,0,0,150,1,1.9,1,2,3,0\\r\\n63,1,0,140,187,0,0,144,1,4,2,2,3,0\\r\\n64,1,3,110,211,0,0,144,1,1.8,1,0,2,1\\r\\n60,1,0,140,293,0,0,170,0,1.2,1,2,3,0\\r\\n42,1,2,130,180,0,1,150,0,0,2,0,2,1\\r\\n45,1,1,128,308,0,0,170,0,0,2,0,2,1\\r\\n57,1,0,165,289,1,0,124,0,1,1,3,3,0\\r\\n40,1,0,110,167,0,0,114,1,2,1,0,3,0\\r\\n56,1,0,125,249,1,0,144,1,1.2,1,1,2,0\\r\\n63,1,0,130,254,0,0,147,0,1.4,1,1,3,0\\r\\n64,1,2,125,309,0,1,131,1,1.8,1,0,3,0\\r\\n41,1,2,112,250,0,1,179,0,0,2,0,2,1\\r\\n56,1,1,130,221,0,0,163,0,0,2,0,3,1\\r\\n67,0,2,115,564,0,0,160,0,1.6,1,0,3,1\\r\\n69,1,3,160,234,1,0,131,0,0.1,1,1,2,1\\r\\n67,1,0,160,286,0,0,108,1,1.5,1,3,2,0\\r\\n59,1,2,150,212,1,1,157,0,1.6,2,0,2,1\\r\\n58,1,0,100,234,0,1,156,0,0.1,2,1,3,0\\r\\n45,1,0,115,260,0,0,185,0,0,2,0,2,1\\r\\n60,0,2,102,318,0,1,160,0,0,2,1,2,1\\r\\n50,1,0,144,200,0,0,126,1,0.9,1,0,3,0\\r\\n62,0,0,124,209,0,1,163,0,0,2,0,2,1\\r\\n34,1,3,118,182,0,0,174,0,0,2,0,2,1\\r\\n52,1,3,152,298,1,1,178,0,1.2,1,0,3,1\\r\\n64,1,3,170,227,0,0,155,0,0.6,1,0,3,1\\r\\n66,0,2,146,278,0,0,152,0,0,1,1,2,1\\r\\n42,1,3,148,244,0,0,178,0,0.8,2,2,2,1\\r\\n59,1,2,126,218,1,1,134,0,2.2,1,1,1,0\\r\\n41,1,2,112,250,0,1,179,0,0,2,0,2,1\\r\\n38,1,2,138,175,0,1,173,0,0,2,4,2,1\\r\\n62,1,1,120,281,0,0,103,0,1.4,1,1,3,0\\r\\n42,1,2,120,240,1,1,194,0,0.8,0,0,3,1\\r\\n67,1,0,100,299,0,0,125,1,0.9,1,2,2,0\\r\\n50,1,0,150,243,0,0,128,0,2.6,1,0,3,0\\r\\n43,1,2,130,315,0,1,162,0,1.9,2,1,2,1\\r\\n45,1,1,128,308,0,0,170,0,0,2,0,2,1\\r\\n49,1,1,130,266,0,1,171,0,0.6,2,0,2,1\\r\\n65,1,0,135,254,0,0,127,0,2.8,1,1,3,0\\r\\n41,1,1,120,157,0,1,182,0,0,2,0,2,1\\r\\n46,1,0,140,311,0,1,120,1,1.8,1,2,3,0\\r\\n54,1,0,122,286,0,0,116,1,3.2,1,2,2,0\\r\\n57,0,1,130,236,0,0,174,0,0,1,1,2,0\\r\\n63,1,0,130,254,0,0,147,0,1.4,1,1,3,0\\r\\n64,1,3,110,211,0,0,144,1,1.8,1,0,2,1\\r\\n39,0,2,94,199,0,1,179,0,0,2,0,2,1\\r\\n51,1,0,140,261,0,0,186,1,0,2,0,2,1\\r\\n54,1,2,150,232,0,0,165,0,1.6,2,0,3,1\\r\\n49,1,2,118,149,0,0,126,0,0.8,2,3,2,0\\r\\n44,0,2,118,242,0,1,149,0,0.3,1,1,2,1\\r\\n52,1,1,128,205,1,1,184,0,0,2,0,2,1\\r\\n66,0,0,178,228,1,1,165,1,1,1,2,3,0\\r\\n58,1,0,125,300,0,0,171,0,0,2,2,3,0\\r\\n56,1,1,120,236,0,1,178,0,0.8,2,0,2,1\\r\\n60,1,0,125,258,0,0,141,1,2.8,1,1,3,0\\r\\n41,0,1,126,306,0,1,163,0,0,2,0,2,1\\r\\n49,0,0,130,269,0,1,163,0,0,2,0,2,1\\r\\n64,1,3,170,227,0,0,155,0,0.6,1,0,3,1\\r\\n49,1,2,118,149,0,0,126,0,0.8,2,3,2,0\\r\\n57,1,1,124,261,0,1,141,0,0.3,2,0,3,0\\r\\n60,1,0,117,230,1,1,160,1,1.4,2,2,3,0\\r\\n62,0,0,150,244,0,1,154,1,1.4,1,0,2,0\\r\\n54,0,1,132,288,1,0,159,1,0,2,1,2,1\\r\\n67,1,2,152,212,0,0,150,0,0.8,1,0,3,0\\r\\n38,1,2,138,175,0,1,173,0,0,2,4,2,1\\r\\n60,1,2,140,185,0,0,155,0,3,1,0,2,0\\r\\n51,1,2,125,245,1,0,166,0,2.4,1,0,2,1\\r\\n44,1,1,130,219,0,0,188,0,0,2,0,2,1\\r\\n54,1,1,192,283,0,0,195,0,0,2,1,3,0\\r\\n46,1,0,140,311,0,1,120,1,1.8,1,2,3,0\\r\\n39,0,2,138,220,0,1,152,0,0,1,0,2,1\\r\\n42,1,2,130,180,0,1,150,0,0,2,0,2,1\\r\\n47,1,0,110,275,0,0,118,1,1,1,1,2,0\\r\\n45,0,1,112,160,0,1,138,0,0,1,0,2,1\\r\\n55,1,0,132,353,0,1,132,1,1.2,1,1,3,0\\r\\n57,1,0,165,289,1,0,124,0,1,1,3,3,0\\r\\n35,1,0,120,198,0,1,130,1,1.6,1,0,3,0\\r\\n62,0,0,140,394,0,0,157,0,1.2,1,0,2,1\\r\\n35,0,0,138,183,0,1,182,0,1.4,2,0,2,1\\r\\n64,0,0,180,325,0,1,154,1,0,2,0,2,1\\r\\n38,1,3,120,231,0,1,182,1,3.8,1,0,3,0\\r\\n66,1,0,120,302,0,0,151,0,0.4,1,0,2,1\\r\\n44,1,2,120,226,0,1,169,0,0,2,0,2,1\\r\\n54,1,2,150,232,0,0,165,0,1.6,2,0,3,1\\r\\n48,1,0,122,222,0,0,186,0,0,2,0,2,1\\r\\n55,0,1,132,342,0,1,166,0,1.2,2,0,2,1\\r\\n58,0,0,170,225,1,0,146,1,2.8,1,2,1,0\\r\\n45,1,0,104,208,0,0,148,1,3,1,0,2,1\\r\\n53,1,0,123,282,0,1,95,1,2,1,2,3,0\\r\\n67,1,0,120,237,0,1,71,0,1,1,0,2,0\\r\\n58,1,2,132,224,0,0,173,0,3.2,2,2,3,0\\r\\n71,0,2,110,265,1,0,130,0,0,2,1,2,1\\r\\n43,1,0,110,211,0,1,161,0,0,2,0,3,1\\r\\n44,1,1,120,263,0,1,173,0,0,2,0,3,1\\r\\n39,0,2,138,220,0,1,152,0,0,1,0,2,1\\r\\n54,1,0,110,206,0,0,108,1,0,1,1,2,0\\r\\n66,1,0,160,228,0,0,138,0,2.3,2,0,1,1\\r\\n56,1,0,130,283,1,0,103,1,1.6,0,0,3,0\\r\\n57,1,0,132,207,0,1,168,1,0,2,0,3,1\\r\\n44,1,1,130,219,0,0,188,0,0,2,0,2,1\\r\\n55,1,0,160,289,0,0,145,1,0.8,1,1,3,0\\r\\n41,0,1,105,198,0,1,168,0,0,2,1,2,1\\r\\n45,0,1,130,234,0,0,175,0,0.6,1,0,2,1\\r\\n35,1,1,122,192,0,1,174,0,0,2,0,2,1\\r\\n41,0,1,130,204,0,0,172,0,1.4,2,0,2,1\\r\\n64,1,3,110,211,0,0,144,1,1.8,1,0,2,1\\r\\n58,1,2,132,224,0,0,173,0,3.2,2,2,3,0\\r\\n71,0,2,110,265,1,0,130,0,0,2,1,2,1\\r\\n64,0,2,140,313,0,1,133,0,0.2,2,0,3,1\\r\\n71,0,1,160,302,0,1,162,0,0.4,2,2,2,1\\r\\n58,0,2,120,340,0,1,172,0,0,2,0,2,1\\r\\n40,1,0,152,223,0,1,181,0,0,2,0,3,0\\r\\n52,1,2,138,223,0,1,169,0,0,2,4,2,1\\r\\n58,1,0,128,259,0,0,130,1,3,1,2,3,0\\r\\n61,1,2,150,243,1,1,137,1,1,1,0,2,1\\r\\n59,1,2,150,212,1,1,157,0,1.6,2,0,2,1\\r\\n56,0,0,200,288,1,0,133,1,4,0,2,3,0\\r\\n67,1,0,100,299,0,0,125,1,0.9,1,2,2,0\\r\\n67,1,0,120,237,0,1,71,0,1,1,0,2,0\\r\\n58,1,0,150,270,0,0,111,1,0.8,2,0,3,0\\r\\n35,1,1,122,192,0,1,174,0,0,2,0,2,1\\r\\n52,1,1,120,325,0,1,172,0,0.2,2,0,2,1\\r\\n46,0,1,105,204,0,1,172,0,0,2,0,2,1\\r\\n51,1,2,94,227,0,1,154,1,0,2,1,3,1\\r\\n55,0,1,132,342,0,1,166,0,1.2,2,0,2,1\\r\\n60,1,0,145,282,0,0,142,1,2.8,1,2,3,0\\r\\n52,0,2,136,196,0,0,169,0,0.1,1,0,2,1\\r\\n62,1,0,120,267,0,1,99,1,1.8,1,2,3,0\\r\\n44,0,2,118,242,0,1,149,0,0.3,1,1,2,1\\r\\n44,1,1,120,220,0,1,170,0,0,2,0,2,1\\r\\n59,1,2,126,218,1,1,134,0,2.2,1,1,1,0\\r\\n56,0,1,140,294,0,0,153,0,1.3,1,0,2,1\\r\\n61,1,0,120,260,0,1,140,1,3.6,1,1,3,0\\r\\n48,1,0,130,256,1,0,150,1,0,2,2,3,0\\r\\n70,1,2,160,269,0,1,112,1,2.9,1,1,3,0\\r\\n74,0,1,120,269,0,0,121,1,0.2,2,1,2,1\\r\\n40,1,3,140,199,0,1,178,1,1.4,2,0,3,1\\r\\n42,1,3,148,244,0,0,178,0,0.8,2,2,2,1\\r\\n64,0,2,140,313,0,1,133,0,0.2,2,0,3,1\\r\\n63,0,2,135,252,0,0,172,0,0,2,0,2,1\\r\\n59,1,0,140,177,0,1,162,1,0,2,1,3,0\\r\\n53,0,2,128,216,0,0,115,0,0,2,0,0,1\\r\\n53,0,0,130,264,0,0,143,0,0.4,1,0,2,1\\r\\n48,0,2,130,275,0,1,139,0,0.2,2,0,2,1\\r\\n45,1,0,142,309,0,0,147,1,0,1,3,3,0\\r\\n66,1,1,160,246,0,1,120,1,0,1,3,1,0\\r\\n48,1,1,130,245,0,0,180,0,0.2,1,0,2,1\\r\\n56,0,1,140,294,0,0,153,0,1.3,1,0,2,1\\r\\n54,1,1,192,283,0,0,195,0,0,2,1,3,0\\r\\n57,1,0,150,276,0,0,112,1,0.6,1,1,1,0\\r\\n70,1,0,130,322,0,0,109,0,2.4,1,3,2,0\\r\\n53,0,2,128,216,0,0,115,0,0,2,0,0,1\\r\\n37,0,2,120,215,0,1,170,0,0,2,0,2,1\\r\\n63,0,0,108,269,0,1,169,1,1.8,1,2,2,0\\r\\n37,1,2,130,250,0,1,187,0,3.5,0,0,2,1\\r\\n54,0,2,110,214,0,1,158,0,1.6,1,0,2,1\\r\\n60,1,0,130,206,0,0,132,1,2.4,1,2,3,0\\r\\n58,1,0,150,270,0,0,111,1,0.8,2,0,3,0\\r\\n57,1,2,150,126,1,1,173,0,0.2,2,1,3,1\\r\\n54,1,2,125,273,0,0,152,0,0.5,0,1,2,1\\r\\n56,1,2,130,256,1,0,142,1,0.6,1,1,1,0\\r\\n60,1,0,130,253,0,1,144,1,1.4,2,1,3,0\\r\\n38,1,2,138,175,0,1,173,0,0,2,4,2,1\\r\\n44,1,2,120,226,0,1,169,0,0,2,0,2,1\\r\\n65,0,2,155,269,0,1,148,0,0.8,2,0,2,1\\r\\n52,1,2,172,199,1,1,162,0,0.5,2,0,3,1\\r\\n41,1,1,120,157,0,1,182,0,0,2,0,2,1\\r\\n66,1,1,160,246,0,1,120,1,0,1,3,1,0\\r\\n50,1,0,150,243,0,0,128,0,2.6,1,0,3,0\\r\\n54,0,2,108,267,0,0,167,0,0,2,0,2,1\\r\\n43,1,0,132,247,1,0,143,1,0.1,1,4,3,0\\r\\n62,0,2,130,263,0,1,97,0,1.2,1,1,3,0\\r\\n66,1,0,120,302,0,0,151,0,0.4,1,0,2,1\\r\\n50,1,0,144,200,0,0,126,1,0.9,1,0,3,0\\r\\n57,1,0,110,335,0,1,143,1,3,1,1,3,0\\r\\n57,1,0,110,201,0,1,126,1,1.5,1,0,1,1\\r\\n57,1,1,124,261,0,1,141,0,0.3,2,0,3,0\\r\\n46,0,0,138,243,0,0,152,1,0,1,0,2,1\\r\\n59,1,0,164,176,1,0,90,0,1,1,2,1,0\\r\\n67,1,0,160,286,0,0,108,1,1.5,1,3,2,0\\r\\n59,1,3,134,204,0,1,162,0,0.8,2,2,2,0\\r\\n53,0,2,128,216,0,0,115,0,0,2,0,0,1\\r\\n48,1,0,122,222,0,0,186,0,0,2,0,2,1\\r\\n62,1,2,130,231,0,1,146,0,1.8,1,3,3,1\\r\\n43,0,2,122,213,0,1,165,0,0.2,1,0,2,1\\r\\n53,1,2,130,246,1,0,173,0,0,2,3,2,1\\r\\n57,0,1,130,236,0,0,174,0,0,1,1,2,0\\r\\n53,1,2,130,246,1,0,173,0,0,2,3,2,1\\r\\n58,1,2,112,230,0,0,165,0,2.5,1,1,3,0\\r\\n48,1,1,110,229,0,1,168,0,1,0,0,3,0\\r\\n58,1,2,105,240,0,0,154,1,0.6,1,0,3,1\\r\\n51,1,2,110,175,0,1,123,0,0.6,2,0,2,1\\r\\n43,0,0,132,341,1,0,136,1,3,1,0,3,0\\r\\n55,1,0,132,353,0,1,132,1,1.2,1,1,3,0\\r\\n54,0,2,110,214,0,1,158,0,1.6,1,0,2,1\\r\\n58,1,1,120,284,0,0,160,0,1.8,1,0,2,0\\r\\n46,0,2,142,177,0,0,160,1,1.4,0,0,2,1\\r\\n66,1,0,160,228,0,0,138,0,2.3,2,0,1,1\\r\\n59,1,1,140,221,0,1,164,1,0,2,0,2,1\\r\\n64,0,0,130,303,0,1,122,0,2,1,2,2,1\\r\\n67,1,0,120,237,0,1,71,0,1,1,0,2,0\\r\\n52,1,3,118,186,0,0,190,0,0,1,0,1,1\\r\\n58,1,0,146,218,0,1,105,0,2,1,1,3,0\\r\\n58,1,2,132,224,0,0,173,0,3.2,2,2,3,0\\r\\n59,1,0,110,239,0,0,142,1,1.2,1,1,3,0\\r\\n58,1,0,150,270,0,0,111,1,0.8,2,0,3,0\\r\\n35,1,0,126,282,0,0,156,1,0,2,0,3,0\\r\\n51,1,2,110,175,0,1,123,0,0.6,2,0,2,1\\r\\n42,0,2,120,209,0,1,173,0,0,1,0,2,1\\r\\n77,1,0,125,304,0,0,162,1,0,2,3,2,0\\r\\n64,1,0,120,246,0,0,96,1,2.2,0,1,2,0\\r\\n63,1,3,145,233,1,0,150,0,2.3,0,0,1,1\\r\\n58,0,1,136,319,1,0,152,0,0,2,2,2,0\\r\\n45,1,3,110,264,0,1,132,0,1.2,1,0,3,0\\r\\n51,1,2,110,175,0,1,123,0,0.6,2,0,2,1\\r\\n62,0,0,160,164,0,0,145,0,6.2,0,3,3,0\\r\\n63,1,0,130,330,1,0,132,1,1.8,2,3,3,0\\r\\n66,0,2,146,278,0,0,152,0,0,1,1,2,1\\r\\n68,1,2,180,274,1,0,150,1,1.6,1,0,3,0\\r\\n40,1,0,110,167,0,0,114,1,2,1,0,3,0\\r\\n66,1,0,160,228,0,0,138,0,2.3,2,0,1,1\\r\\n63,1,3,145,233,1,0,150,0,2.3,0,0,1,1\\r\\n49,1,2,120,188,0,1,139,0,2,1,3,3,0\\r\\n71,0,0,112,149,0,1,125,0,1.6,1,0,2,1\\r\\n70,1,1,156,245,0,0,143,0,0,2,0,2,1\\r\\n46,0,1,105,204,0,1,172,0,0,2,0,2,1\\r\\n61,1,0,140,207,0,0,138,1,1.9,2,1,3,0\\r\\n56,1,2,130,256,1,0,142,1,0.6,1,1,1,0\\r\\n58,1,2,140,211,1,0,165,0,0,2,0,2,1\\r\\n58,1,0,100,234,0,1,156,0,0.1,2,1,3,0\\r\\n46,0,0,138,243,0,0,152,1,0,1,0,2,1\\r\\n46,1,2,150,231,0,1,147,0,3.6,1,0,2,0\\r\\n41,0,1,105,198,0,1,168,0,0,2,1,2,1\\r\\n56,1,0,125,249,1,0,144,1,1.2,1,1,2,0\\r\\n57,1,0,150,276,0,0,112,1,0.6,1,1,1,0\\r\\n70,1,0,130,322,0,0,109,0,2.4,1,3,2,0\\r\\n59,1,3,170,288,0,0,159,0,0.2,1,0,3,0\\r\\n41,0,1,130,204,0,0,172,0,1.4,2,0,2,1\\r\\n54,1,2,125,273,0,0,152,0,0.5,0,1,2,1\\r\\n52,1,2,138,223,0,1,169,0,0,2,4,2,1\\r\\n62,0,0,124,209,0,1,163,0,0,2,0,2,1\\r\\n65,0,2,160,360,0,0,151,0,0.8,2,0,2,1\\r\\n57,0,0,128,303,0,0,159,0,0,2,1,2,1\\r\\n42,0,0,102,265,0,0,122,0,0.6,1,0,2,1\\r\\n57,0,0,120,354,0,1,163,1,0.6,2,0,2,1\\r\\n58,0,1,136,319,1,0,152,0,0,2,2,2,0\\r\\n45,1,0,142,309,0,0,147,1,0,1,3,3,0\\r\\n51,0,0,130,305,0,1,142,1,1.2,1,0,3,0\\r\\n54,0,2,160,201,0,1,163,0,0,2,1,2,1\\r\\n57,1,2,150,168,0,1,174,0,1.6,2,0,2,1\\r\\n43,1,0,132,247,1,0,143,1,0.1,1,4,3,0\\r\\n47,1,2,108,243,0,1,152,0,0,2,0,2,0\\r\\n67,1,2,152,212,0,0,150,0,0.8,1,0,3,0\\r\\n65,0,0,150,225,0,0,114,0,1,1,3,3,0\\r\\n60,0,2,102,318,0,1,160,0,0,2,1,2,1\\r\\n37,1,2,130,250,0,1,187,0,3.5,0,0,2,1\\r\\n41,0,2,112,268,0,0,172,1,0,2,0,2,1\\r\\n57,0,0,120,354,0,1,163,1,0.6,2,0,2,1\\r\\n59,0,0,174,249,0,1,143,1,0,1,0,2,0\\r\\n67,1,0,120,229,0,0,129,1,2.6,1,2,3,0\\r\\n47,1,2,130,253,0,1,179,0,0,2,0,2,1\\r\\n58,1,1,120,284,0,0,160,0,1.8,1,0,2,0\\r\\n62,0,0,150,244,0,1,154,1,1.4,1,0,2,0\\r\\n60,1,0,140,293,0,0,170,0,1.2,1,2,3,0\\r\\n57,1,0,152,274,0,1,88,1,1.2,1,1,3,0\\r\\n57,1,2,150,168,0,1,174,0,1.6,2,0,2,1\\r\\n47,1,2,130,253,0,1,179,0,0,2,0,2,1\\r\\n52,1,1,128,205,1,1,184,0,0,2,0,2,1\\r\\n53,1,2,130,246,1,0,173,0,0,2,3,2,1\\r\\n55,1,0,160,289,0,0,145,1,0.8,1,1,3,0\\r\\n51,0,2,120,295,0,0,157,0,0.6,2,0,2,1\\r\\n52,1,0,112,230,0,1,160,0,0,2,1,2,0\\r\\n63,0,0,150,407,0,0,154,0,4,1,3,3,0\\r\\n49,0,1,134,271,0,1,162,0,0,1,0,2,1\\r\\n66,0,0,178,228,1,1,165,1,1,1,2,3,0\\r\\n49,0,1,134,271,0,1,162,0,0,1,0,2,1\\r\\n65,0,0,150,225,0,0,114,0,1,1,3,3,0\\r\\n69,1,3,160,234,1,0,131,0,0.1,1,1,2,1\\r\\n47,1,2,108,243,0,1,152,0,0,2,0,2,0\\r\\n39,0,2,138,220,0,1,152,0,0,1,0,2,1\\r\\n43,1,0,150,247,0,1,171,0,1.5,2,0,2,1\\r\\n51,1,0,140,261,0,0,186,1,0,2,0,2,1\\r\\n69,1,2,140,254,0,0,146,0,2,1,3,3,0\\r\\n48,1,2,124,255,1,1,175,0,0,2,2,2,1\\r\\n52,1,3,118,186,0,0,190,0,0,1,0,1,1\\r\\n43,1,0,110,211,0,1,161,0,0,2,0,3,1\\r\\n67,0,2,115,564,0,0,160,0,1.6,1,0,3,1\\r\\n38,1,2,138,175,0,1,173,0,0,2,4,2,1\\r\\n44,1,1,130,219,0,0,188,0,0,2,0,2,1\\r\\n47,1,0,110,275,0,0,118,1,1,1,1,2,0\\r\\n61,1,2,150,243,1,1,137,1,1,1,0,2,1\\r\\n67,1,0,160,286,0,0,108,1,1.5,1,3,2,0\\r\\n60,0,3,150,240,0,1,171,0,0.9,2,0,2,1\\r\\n64,0,2,140,313,0,1,133,0,0.2,2,0,3,1\\r\\n58,0,0,130,197,0,1,131,0,0.6,1,0,2,1\\r\\n41,1,2,130,214,0,0,168,0,2,1,0,2,1\\r\\n48,1,1,110,229,0,1,168,0,1,0,0,3,0\\r\\n57,1,2,150,126,1,1,173,0,0.2,2,1,3,1\\r\\n57,1,0,165,289,1,0,124,0,1,1,3,3,0\\r\\n57,1,2,128,229,0,0,150,0,0.4,1,1,3,0\\r\\n39,1,2,140,321,0,0,182,0,0,2,0,2,1\\r\\n58,1,0,128,216,0,0,131,1,2.2,1,3,3,0\\r\\n51,0,0,130,305,0,1,142,1,1.2,1,0,3,0\\r\\n63,0,0,150,407,0,0,154,0,4,1,3,3,0\\r\\n51,1,0,140,298,0,1,122,1,4.2,1,3,3,0\\r\\n35,1,1,122,192,0,1,174,0,0,2,0,2,1\\r\\n65,1,0,110,248,0,0,158,0,0.6,2,2,1,0\\r\\n62,1,1,120,281,0,0,103,0,1.4,1,1,3,0\\r\\n41,1,0,110,172,0,0,158,0,0,2,0,3,0\\r\\n65,1,0,135,254,0,0,127,0,2.8,1,1,3,0\\r\\n54,0,1,132,288,1,0,159,1,0,2,1,2,1\\r\\n61,1,2,150,243,1,1,137,1,1,1,0,2,1\\r\\n57,0,0,128,303,0,0,159,0,0,2,1,2,1\\r\\n57,1,2,150,168,0,1,174,0,1.6,2,0,2,1\\r\\n64,1,2,125,309,0,1,131,1,1.8,1,0,3,0\\r\\n55,1,0,132,353,0,1,132,1,1.2,1,1,3,0\\r\\n51,1,2,125,245,1,0,166,0,2.4,1,0,2,1\\r\\n59,1,0,135,234,0,1,161,0,0.5,1,0,3,1\\r\\n68,1,2,180,274,1,0,150,1,1.6,1,0,3,0\\r\\n57,1,1,154,232,0,0,164,0,0,2,1,2,0\\r\\n54,1,0,140,239,0,1,160,0,1.2,2,0,2,1\\r\\n46,0,2,142,177,0,0,160,1,1.4,0,0,2,1\\r\\n71,0,0,112,149,0,1,125,0,1.6,1,0,2,1\\r\\n35,0,0,138,183,0,1,182,0,1.4,2,0,2,1\\r\\n46,0,2,142,177,0,0,160,1,1.4,0,0,2,1\\r\\n45,0,1,130,234,0,0,175,0,0.6,1,0,2,1\\r\\n47,1,2,108,243,0,1,152,0,0,2,0,2,0\\r\\n44,0,2,118,242,0,1,149,0,0.3,1,1,2,1\\r\\n61,1,0,120,260,0,1,140,1,3.6,1,1,3,0\\r\\n41,0,1,130,204,0,0,172,0,1.4,2,0,2,1\\r\\n56,0,0,200,288,1,0,133,1,4,0,2,3,0\\r\\n55,0,0,180,327,0,2,117,1,3.4,1,0,2,0\\r\\n54,0,1,132,288,1,0,159,1,0,2,1,2,1\\r\\n43,1,0,120,177,0,0,120,1,2.5,1,0,3,0\\r\\n44,1,0,112,290,0,0,153,0,0,2,1,2,0\\r\\n54,1,0,110,206,0,0,108,1,0,1,1,2,0\\r\\n44,1,1,120,220,0,1,170,0,0,2,0,2,1\\r\\n49,1,2,120,188,0,1,139,0,2,1,3,3,0\\r\\n60,1,0,130,206,0,0,132,1,2.4,1,2,3,0\\r\\n41,0,1,105,198,0,1,168,0,0,2,1,2,1\\r\\n49,1,2,120,188,0,1,139,0,2,1,3,3,0\\r\\n61,1,0,148,203,0,1,161,0,0,2,1,3,0\\r\\n59,1,0,140,177,0,1,162,1,0,2,1,3,0\\r\\n58,1,1,125,220,0,1,144,0,0.4,1,4,3,1\\r\\n67,0,2,152,277,0,1,172,0,0,2,1,2,1\\r\\n61,1,0,148,203,0,1,161,0,0,2,1,3,0\\r\\n58,1,2,112,230,0,0,165,0,2.5,1,1,3,0\\r\\n51,0,2,130,256,0,0,149,0,0.5,2,0,2,1\\r\\n62,0,0,160,164,0,0,145,0,6.2,0,3,3,0\\r\\n62,0,0,124,209,0,1,163,0,0,2,0,2,1\\r\\n59,1,3,178,270,0,0,145,0,4.2,0,0,3,1\\r\\n69,1,3,160,234,1,0,131,0,0.1,1,1,2,1\\r\\n60,0,0,150,258,0,0,157,0,2.6,1,2,3,0\\r\\n65,0,2,155,269,0,1,148,0,0.8,2,0,2,1\\r\\n63,0,0,124,197,0,1,136,1,0,1,0,2,0\\r\\n53,0,0,138,234,0,0,160,0,0,2,0,2,1\\r\\n54,0,2,108,267,0,0,167,0,0,2,0,2,1\\r\\n76,0,2,140,197,0,2,116,0,1.1,1,0,2,1\\r\\n50,0,2,120,219,0,1,158,0,1.6,1,0,2,1\\r\\n52,1,1,120,325,0,1,172,0,0.2,2,0,2,1\\r\\n46,1,0,120,249,0,0,144,0,0.8,2,0,3,0\\r\\n64,1,3,170,227,0,0,155,0,0.6,1,0,3,1\\r\\n58,1,0,128,259,0,0,130,1,3,1,2,3,0\\r\\n44,1,2,140,235,0,0,180,0,0,2,0,2,1\\r\\n62,0,0,140,394,0,0,157,0,1.2,1,0,2,1\\r\\n59,1,3,134,204,0,1,162,0,0.8,2,2,2,0\\r\\n54,1,2,125,273,0,0,152,0,0.5,0,1,2,1\\r\\n48,1,1,110,229,0,1,168,0,1,0,0,3,0\\r\\n70,1,0,130,322,0,0,109,0,2.4,1,3,2,0\\r\\n67,0,0,106,223,0,1,142,0,0.3,2,2,2,1\\r\\n51,0,2,120,295,0,0,157,0,0.6,2,0,2,1\\r\\n68,1,2,118,277,0,1,151,0,1,2,1,3,1\\r\\n69,1,2,140,254,0,0,146,0,2,1,3,3,0\\r\\n54,1,0,122,286,0,0,116,1,3.2,1,2,2,0\\r\\n43,0,0,132,341,1,0,136,1,3,1,0,3,0\\r\\n53,1,2,130,197,1,0,152,0,1.2,0,0,2,1\\r\\n58,1,0,100,234,0,1,156,0,0.1,2,1,3,0\\r\\n67,1,0,125,254,1,1,163,0,0.2,1,2,3,0\\r\\n59,1,0,140,177,0,1,162,1,0,2,1,3,0\\r\\n48,1,0,122,222,0,0,186,0,0,2,0,2,1\\r\\n39,0,2,94,199,0,1,179,0,0,2,0,2,1\\r\\n67,1,0,120,237,0,1,71,0,1,1,0,2,0\\r\\n58,0,0,130,197,0,1,131,0,0.6,1,0,2,1\\r\\n65,0,2,155,269,0,1,148,0,0.8,2,0,2,1\\r\\n42,0,2,120,209,0,1,173,0,0,1,0,2,1\\r\\n44,1,0,112,290,0,0,153,0,0,2,1,2,0\\r\\n56,1,0,132,184,0,0,105,1,2.1,1,1,1,0\\r\\n53,0,0,138,234,0,0,160,0,0,2,0,2,1\\r\\n50,0,0,110,254,0,0,159,0,0,2,0,2,1\\r\\n41,1,2,130,214,0,0,168,0,2,1,0,2,1\\r\\n54,0,2,160,201,0,1,163,0,0,2,1,2,1\\r\\n42,1,2,120,240,1,1,194,0,0.8,0,0,3,1\\r\\n54,0,2,135,304,1,1,170,0,0,2,0,2,1\\r\\n60,1,0,145,282,0,0,142,1,2.8,1,2,3,0\\r\\n34,1,3,118,182,0,0,174,0,0,2,0,2,1\\r\\n44,1,0,112,290,0,0,153,0,0,2,1,2,0\\r\\n60,1,0,125,258,0,0,141,1,2.8,1,1,3,0\\r\\n43,1,0,150,247,0,1,171,0,1.5,2,0,2,1\\r\\n52,1,3,152,298,1,1,178,0,1.2,1,0,3,1\\r\\n70,1,0,130,322,0,0,109,0,2.4,1,3,2,0\\r\\n62,0,0,140,394,0,0,157,0,1.2,1,0,2,1\\r\\n58,1,0,146,218,0,1,105,0,2,1,1,3,0\\r\\n46,1,1,101,197,1,1,156,0,0,2,0,3,1\\r\\n44,1,2,140,235,0,0,180,0,0,2,0,2,1\\r\\n55,1,1,130,262,0,1,155,0,0,2,0,2,1\\r\\n43,1,0,120,177,0,0,120,1,2.5,1,0,3,0\\r\\n55,1,0,132,353,0,1,132,1,1.2,1,1,3,0\\r\\n40,1,3,140,199,0,1,178,1,1.4,2,0,3,1\\r\\n64,1,2,125,309,0,1,131,1,1.8,1,0,3,0\\r\\n59,1,0,164,176,1,0,90,0,1,1,2,1,0\\r\\n61,0,0,145,307,0,0,146,1,1,1,0,3,0\\r\\n54,1,0,122,286,0,0,116,1,3.2,1,2,2,0\\r\\n74,0,1,120,269,0,0,121,1,0.2,2,1,2,1\\r\\n63,0,0,108,269,0,1,169,1,1.8,1,2,2,0\\r\\n70,1,2,160,269,0,1,112,1,2.9,1,1,3,0\\r\\n63,0,0,108,269,0,1,169,1,1.8,1,2,2,0\\r\\n64,1,0,145,212,0,0,132,0,2,1,2,1,0\\r\\n61,1,0,148,203,0,1,161,0,0,2,1,3,0\\r\\n59,1,1,140,221,0,1,164,1,0,2,0,2,1\\r\\n38,1,2,138,175,0,1,173,0,0,2,4,2,1\\r\\n58,1,1,120,284,0,0,160,0,1.8,1,0,2,0\\r\\n63,0,1,140,195,0,1,179,0,0,2,2,2,1\\r\\n62,0,2,130,263,0,1,97,0,1.2,1,1,3,0\\r\\n46,1,0,140,311,0,1,120,1,1.8,1,2,3,0\\r\\n58,0,2,120,340,0,1,172,0,0,2,0,2,1\\r\\n63,0,1,140,195,0,1,179,0,0,2,2,2,1\\r\\n47,1,2,130,253,0,1,179,0,0,2,0,2,1\\r\\n71,0,2,110,265,1,0,130,0,0,2,1,2,1\\r\\n66,1,0,112,212,0,0,132,1,0.1,2,1,2,0\\r\\n42,1,0,136,315,0,1,125,1,1.8,1,0,1,0\\r\\n64,1,0,145,212,0,0,132,0,2,1,2,1,0\\r\\n55,0,0,180,327,0,2,117,1,3.4,1,0,2,0\\r\\n43,0,0,132,341,1,0,136,1,3,1,0,3,0\\r\\n55,0,0,128,205,0,2,130,1,2,1,1,3,0\\r\\n58,0,0,170,225,1,0,146,1,2.8,1,2,1,0\\r\\n55,1,0,140,217,0,1,111,1,5.6,0,0,3,0\\r\\n51,0,0,130,305,0,1,142,1,1.2,1,0,3,0\\r\\n50,0,2,120,219,0,1,158,0,1.6,1,0,2,1\\r\\n43,1,0,115,303,0,1,181,0,1.2,1,0,2,1\\r\\n41,0,1,126,306,0,1,163,0,0,2,0,2,1\\r\\n49,1,1,130,266,0,1,171,0,0.6,2,0,2,1\\r\\n65,1,0,110,248,0,0,158,0,0.6,2,2,1,0\\r\\n57,1,0,152,274,0,1,88,1,1.2,1,1,3,0\\r\\n48,1,0,130,256,1,0,150,1,0,2,2,3,0\\r\\n62,0,0,138,294,1,1,106,0,1.9,1,3,2,0\\r\\n61,1,3,134,234,0,1,145,0,2.6,1,2,2,0\\r\\n59,1,3,178,270,0,0,145,0,4.2,0,0,3,1\\r\\n69,1,2,140,254,0,0,146,0,2,1,3,3,0\\r\\n58,1,2,132,224,0,0,173,0,3.2,2,2,3,0\\r\\n38,1,3,120,231,0,1,182,1,3.8,1,0,3,0\\r\\n69,0,3,140,239,0,1,151,0,1.8,2,2,2,1\\r\\n65,1,3,138,282,1,0,174,0,1.4,1,1,2,0\\r\\n45,1,3,110,264,0,1,132,0,1.2,1,0,3,0\\r\\n49,1,1,130,266,0,1,171,0,0.6,2,0,2,1\\r\\n45,0,1,130,234,0,0,175,0,0.6,1,0,2,1\\r\\n61,1,0,138,166,0,0,125,1,3.6,1,1,2,0\\r\\n52,1,0,125,212,0,1,168,0,1,2,2,3,0\\r\\n53,0,0,130,264,0,0,143,0,0.4,1,0,2,1\\r\\n59,0,0,174,249,0,1,143,1,0,1,0,2,0\\r\\n58,0,2,120,340,0,1,172,0,0,2,0,2,1\\r\\n65,1,3,138,282,1,0,174,0,1.4,1,1,2,0\\r\\n58,0,0,130,197,0,1,131,0,0.6,1,0,2,1\\r\\n46,0,0,138,243,0,0,152,1,0,1,0,2,1\\r\\n56,0,0,134,409,0,0,150,1,1.9,1,2,3,0\\r\\n64,1,0,128,263,0,1,105,1,0.2,1,1,3,1\\r\\n65,1,0,120,177,0,1,140,0,0.4,2,0,3,1\\r\\n44,1,2,120,226,0,1,169,0,0,2,0,2,1\\r\\n50,1,0,150,243,0,0,128,0,2.6,1,0,3,0\\r\\n47,1,2,108,243,0,1,152,0,0,2,0,2,0\\r\\n64,0,0,130,303,0,1,122,0,2,1,2,2,1\\r\\n71,0,0,112,149,0,1,125,0,1.6,1,0,2,1\\r\\n45,0,1,130,234,0,0,175,0,0.6,1,0,2,1\\r\\n62,1,0,120,267,0,1,99,1,1.8,1,2,3,0\\r\\n41,1,1,120,157,0,1,182,0,0,2,0,2,1\\r\\n66,0,3,150,226,0,1,114,0,2.6,0,0,2,1\\r\\n56,1,0,130,283,1,0,103,1,1.6,0,0,3,0\\r\\n41,0,1,126,306,0,1,163,0,0,2,0,2,1\\r\\n41,1,1,110,235,0,1,153,0,0,2,0,2,1\\r\\n57,0,1,130,236,0,0,174,0,0,1,1,2,0\\r\\n39,0,2,138,220,0,1,152,0,0,1,0,2,1\\r\\n64,1,2,125,309,0,1,131,1,1.8,1,0,3,0\\r\\n59,1,0,138,271,0,0,182,0,0,2,0,2,1\\r\\n61,1,0,138,166,0,0,125,1,3.6,1,1,2,0\\r\\n58,1,0,114,318,0,2,140,0,4.4,0,3,1,0\\r\\n47,1,0,112,204,0,1,143,0,0.1,2,0,2,1\\r\\n58,0,0,100,248,0,0,122,0,1,1,0,2,1\\r\\n66,0,3,150,226,0,1,114,0,2.6,0,0,2,1\\r\\n65,0,2,140,417,1,0,157,0,0.8,2,1,2,1\\r\\n35,1,1,122,192,0,1,174,0,0,2,0,2,1\\r\\n57,1,1,124,261,0,1,141,0,0.3,2,0,3,0\\r\\n29,1,1,130,204,0,0,202,0,0,2,0,2,1\\r\\n66,1,1,160,246,0,1,120,1,0,1,3,1,0\\r\\n61,0,0,130,330,0,0,169,0,0,2,0,2,0\\r\\n52,1,0,125,212,0,1,168,0,1,2,2,3,0\\r\\n68,1,2,118,277,0,1,151,0,1,2,1,3,1\\r\\n54,1,2,120,258,0,0,147,0,0.4,1,0,3,1\\r\\n63,1,0,130,330,1,0,132,1,1.8,2,3,3,0\\r\\n58,1,0,100,234,0,1,156,0,0.1,2,1,3,0\\r\\n60,1,0,130,253,0,1,144,1,1.4,2,1,3,0\\r\\n63,1,0,130,254,0,0,147,0,1.4,1,1,3,0\\r\\n41,0,2,112,268,0,0,172,1,0,2,0,2,1\\r\\n68,1,2,180,274,1,0,150,1,1.6,1,0,3,0\\r\\n42,1,1,120,295,0,1,162,0,0,2,0,2,1\\r\\n59,1,0,170,326,0,0,140,1,3.4,0,0,3,0\\r\\n59,1,0,164,176,1,0,90,0,1,1,2,1,0\\r\\n43,1,0,120,177,0,0,120,1,2.5,1,0,3,0\\r\\n60,1,2,140,185,0,0,155,0,3,1,0,2,0\\r\\n63,0,0,150,407,0,0,154,0,4,1,3,3,0\\r\\n52,1,0,128,204,1,1,156,1,1,1,0,0,0\\r\\n58,1,0,125,300,0,0,171,0,0,2,2,3,0\\r\\n56,0,0,200,288,1,0,133,1,4,0,2,3,0\\r\\n54,0,2,135,304,1,1,170,0,0,2,0,2,1\\r\\n58,1,2,105,240,0,0,154,1,0.6,1,0,3,1\\r\\n55,0,1,135,250,0,0,161,0,1.4,1,0,2,1\\r\\n53,1,0,140,203,1,0,155,1,3.1,0,0,3,0\\r\\n63,0,1,140,195,0,1,179,0,0,2,2,2,1\\r\\n39,1,0,118,219,0,1,140,0,1.2,1,0,3,0\\r\\n35,1,0,126,282,0,0,156,1,0,2,0,3,0\\r\\n50,0,2,120,219,0,1,158,0,1.6,1,0,2,1\\r\\n67,1,2,152,212,0,0,150,0,0.8,1,0,3,0\\r\\n66,1,0,112,212,0,0,132,1,0.1,2,1,2,0\\r\\n35,1,0,126,282,0,0,156,1,0,2,0,3,0\\r\\n41,1,2,130,214,0,0,168,0,2,1,0,2,1\\r\\n35,1,0,120,198,0,1,130,1,1.6,1,0,3,0\\r\\n71,0,1,160,302,0,1,162,0,0.4,2,2,2,1\\r\\n57,1,0,110,201,0,1,126,1,1.5,1,0,1,1\\r\\n51,1,2,94,227,0,1,154,1,0,2,1,3,1\\r\\n58,1,0,128,216,0,0,131,1,2.2,1,3,3,0\\r\\n57,1,2,128,229,0,0,150,0,0.4,1,1,3,0\\r\\n56,0,1,140,294,0,0,153,0,1.3,1,0,2,1\\r\\n60,0,2,120,178,1,1,96,0,0,2,0,2,1\\r\\n45,1,3,110,264,0,1,132,0,1.2,1,0,3,0\\r\\n56,1,1,130,221,0,0,163,0,0,2,0,3,1\\r\\n35,1,0,120,198,0,1,130,1,1.6,1,0,3,0\\r\\n45,0,1,112,160,0,1,138,0,0,1,0,2,1\\r\\n66,0,3,150,226,0,1,114,0,2.6,0,0,2,1\\r\\n51,1,3,125,213,0,0,125,1,1.4,2,1,2,1\\r\\n70,1,1,156,245,0,0,143,0,0,2,0,2,1\\r\\n55,0,0,128,205,0,2,130,1,2,1,1,3,0\\r\\n56,1,2,130,256,1,0,142,1,0.6,1,1,1,0\\r\\n55,0,1,135,250,0,0,161,0,1.4,1,0,2,1\\r\\n52,1,0,108,233,1,1,147,0,0.1,2,3,3,1\\r\\n64,1,2,140,335,0,1,158,0,0,2,0,2,0\\r\\n45,1,0,115,260,0,0,185,0,0,2,0,2,1\\r\\n67,0,2,152,277,0,1,172,0,0,2,1,2,1\\r\\n68,0,2,120,211,0,0,115,0,1.5,1,0,2,1\\r\\n74,0,1,120,269,0,0,121,1,0.2,2,1,2,1\\r\\n60,0,0,150,258,0,0,157,0,2.6,1,2,3,0\\r\\n48,1,0,124,274,0,0,166,0,0.5,1,0,3,0\\r\\n56,1,1,130,221,0,0,163,0,0,2,0,3,1\\r\\n46,1,0,140,311,0,1,120,1,1.8,1,2,3,0\\r\\n55,0,1,135,250,0,0,161,0,1.4,1,0,2,1\\r\\n44,1,1,120,220,0,1,170,0,0,2,0,2,1\\r\\n52,1,0,112,230,0,1,160,0,0,2,1,2,0\\r\\n51,1,2,94,227,0,1,154,1,0,2,1,3,1\\r\\n44,0,2,108,141,0,1,175,0,0.6,1,0,2,1\\r\\n52,1,0,128,204,1,1,156,1,1,1,0,0,0\\r\\n50,1,2,129,196,0,1,163,0,0,2,0,2,1\\r\\n59,1,0,110,239,0,0,142,1,1.2,1,1,3,0\\r\\n67,1,0,120,229,0,0,129,1,2.6,1,2,3,0\\r\\n58,1,0,125,300,0,0,171,0,0,2,2,3,0\\r\\n52,1,0,128,255,0,1,161,1,0,2,1,3,0\\r\\n44,1,2,140,235,0,0,180,0,0,2,0,2,1\\r\\n41,0,2,112,268,0,0,172,1,0,2,0,2,1\\r\\n63,1,0,130,330,1,0,132,1,1.8,2,3,3,0\\r\\n58,1,1,125,220,0,1,144,0,0.4,1,4,3,1\\r\\n60,0,2,102,318,0,1,160,0,0,2,1,2,1\\r\\n51,1,2,100,222,0,1,143,1,1.2,1,0,2,1\\r\\n64,1,2,140,335,0,1,158,0,0,2,0,2,0\\r\\n60,1,0,117,230,1,1,160,1,1.4,2,2,3,0\\r\\n44,1,2,120,226,0,1,169,0,0,2,0,2,1\\r\\n58,1,1,125,220,0,1,144,0,0.4,1,4,3,1\\r\\n55,1,1,130,262,0,1,155,0,0,2,0,2,1\\r\\n65,0,2,160,360,0,0,151,0,0.8,2,0,2,1\\r\\n48,1,1,130,245,0,0,180,0,0.2,1,0,2,1\\r\\n65,1,0,120,177,0,1,140,0,0.4,2,0,3,1\\r\\n51,0,2,130,256,0,0,149,0,0.5,2,0,2,1\\r\\n48,1,2,124,255,1,1,175,0,0,2,2,2,1\\r\\n64,1,0,120,246,0,0,96,1,2.2,0,1,2,0\\r\\n66,1,0,160,228,0,0,138,0,2.3,2,0,1,1\\r\\n46,0,1,105,204,0,1,172,0,0,2,0,2,1\\r\\n61,0,0,130,330,0,0,169,0,0,2,0,2,0\\r\\n57,1,0,150,276,0,0,112,1,0.6,1,1,1,0\\r\\n49,0,0,130,269,0,1,163,0,0,2,0,2,1\\r\\n56,1,1,130,221,0,0,163,0,0,2,0,3,1\\r\\n58,0,3,150,283,1,0,162,0,1,2,0,2,1\\r\\n63,1,0,140,187,0,0,144,1,4,2,2,3,0\\r\\n57,1,0,110,335,0,1,143,1,3,1,1,3,0\\r\\n57,1,0,110,335,0,1,143,1,3,1,1,3,0\\r\\n68,1,0,144,193,1,1,141,0,3.4,1,2,3,0\\r\\n46,1,1,101,197,1,1,156,0,0,2,0,3,1\\r\\n71,0,2,110,265,1,0,130,0,0,2,1,2,1\\r\\n41,1,1,135,203,0,1,132,0,0,1,0,1,1\\r\\n45,0,0,138,236,0,0,152,1,0.2,1,0,2,1\\r\\n62,0,0,150,244,0,1,154,1,1.4,1,0,2,0\\r\\n65,0,0,150,225,0,0,114,0,1,1,3,3,0\\r\\n48,0,2,130,275,0,1,139,0,0.2,2,0,2,1\\r\\n51,1,2,100,222,0,1,143,1,1.2,1,0,2,1\\r\\n61,0,0,145,307,0,0,146,1,1,1,0,3,0\\r\\n53,1,0,123,282,0,1,95,1,2,1,2,3,0\\r\\n59,1,3,134,204,0,1,162,0,0.8,2,2,2,0\\r\\n34,0,1,118,210,0,1,192,0,0.7,2,0,2,1\\r\\n44,1,0,120,169,0,1,144,1,2.8,0,0,1,0\\r\\n58,1,0,146,218,0,1,105,0,2,1,1,3,0\\r\\n64,0,0,130,303,0,1,122,0,2,1,2,2,1\\r\\n56,1,1,120,240,0,1,169,0,0,0,0,2,1\\r\\n54,1,2,150,232,0,0,165,0,1.6,2,0,3,1\\r\\n55,1,0,160,289,0,0,145,1,0.8,1,1,3,0\\r\\n67,1,0,125,254,1,1,163,0,0.2,1,2,3,0\\r\\n51,1,0,140,298,0,1,122,1,4.2,1,3,3,0\\r\\n62,0,0,138,294,1,1,106,0,1.9,1,3,2,0\\r\\n62,1,1,120,281,0,0,103,0,1.4,1,1,3,0\\r\\n54,1,0,110,239,0,1,126,1,2.8,1,1,3,0\\r\\n54,1,0,110,239,0,1,126,1,2.8,1,1,3,0\\r\\n68,1,0,144,193,1,1,141,0,3.4,1,2,3,0\\r\\n60,0,2,120,178,1,1,96,0,0,2,0,2,1\\r\\n61,1,3,134,234,0,1,145,0,2.6,1,2,2,0\\r\\n62,1,1,128,208,1,0,140,0,0,2,0,2,1\\r\\n41,1,1,135,203,0,1,132,0,0,1,0,1,1\\r\\n65,0,0,150,225,0,0,114,0,1,1,3,3,0\\r\\n59,1,3,170,288,0,0,159,0,0.2,1,0,3,0\\r\\n43,1,0,115,303,0,1,181,0,1.2,1,0,2,1\\r\\n67,1,0,120,229,0,0,129,1,2.6,1,2,3,0\\r\\n63,1,3,145,233,1,0,150,0,2.3,0,0,1,1\\r\\n63,0,0,124,197,0,1,136,1,0,1,0,2,0\\r\\n52,1,0,112,230,0,1,160,0,0,2,1,2,0\\r\\n58,0,0,130,197,0,1,131,0,0.6,1,0,2,1\\r\\n53,1,0,142,226,0,0,111,1,0,2,0,3,1\\r\\n57,1,0,150,276,0,0,112,1,0.6,1,1,1,0\\r\\n44,1,2,130,233,0,1,179,1,0.4,2,0,2,1\\r\\n51,1,2,94,227,0,1,154,1,0,2,1,3,1\\r\\n54,0,2,110,214,0,1,158,0,1.6,1,0,2,1\\r\\n40,1,0,110,167,0,0,114,1,2,1,0,3,0\\r\\n57,1,1,124,261,0,1,141,0,0.3,2,0,3,0\\r\\n62,0,0,140,268,0,0,160,0,3.6,0,2,2,0\\r\\n53,1,0,140,203,1,0,155,1,3.1,0,0,3,0\\r\\n62,1,1,128,208,1,0,140,0,0,2,0,2,1\\r\\n58,1,2,105,240,0,0,154,1,0.6,1,0,3,1\\r\\n70,1,1,156,245,0,0,143,0,0,2,0,2,1\\r\\n45,1,0,115,260,0,0,185,0,0,2,0,2,1\\r\\n42,1,3,148,244,0,0,178,0,0.8,2,2,2,1\\r\\n58,0,0,170,225,1,0,146,1,2.8,1,2,1,0\\r\\n61,1,0,140,207,0,0,138,1,1.9,2,1,3,0\\r\\n62,0,0,140,268,0,0,160,0,3.6,0,2,2,0\\r\\n60,1,0,130,253,0,1,144,1,1.4,2,1,3,0\\r\\n54,1,0,140,239,0,1,160,0,1.2,2,0,2,1\\r\\n61,1,0,138,166,0,0,125,1,3.6,1,1,2,0\\r\\n63,0,2,135,252,0,0,172,0,0,2,0,2,1\\r\\n42,1,2,130,180,0,1,150,0,0,2,0,2,1\\r\\n57,1,2,128,229,0,0,150,0,0.4,1,1,3,0\\r\\n44,1,2,130,233,0,1,179,1,0.4,2,0,2,1\\r\\n54,1,0,124,266,0,0,109,1,2.2,1,1,3,0\\r\\n51,1,2,100,222,0,1,143,1,1.2,1,0,2,1\\r\\n58,1,1,125,220,0,1,144,0,0.4,1,4,3,1\\r\\n68,1,2,118,277,0,1,151,0,1,2,1,3,1\\r\\n55,1,0,140,217,0,1,111,1,5.6,0,0,3,0\\r\\n42,1,0,136,315,0,1,125,1,1.8,1,0,1,0\\r\\n49,1,2,118,149,0,0,126,0,0.8,2,3,2,0\\r\\n53,0,0,138,234,0,0,160,0,0,2,0,2,1\\r\\n52,1,2,172,199,1,1,162,0,0.5,2,0,3,1\\r\\n51,1,3,125,213,0,0,125,1,1.4,2,1,2,1\\r\\n51,1,0,140,261,0,0,186,1,0,2,0,2,1\\r\\n70,1,0,145,174,0,1,125,1,2.6,0,0,3,0\\r\\n35,0,0,138,183,0,1,182,0,1.4,2,0,2,1\\r\\n58,1,2,112,230,0,0,165,0,2.5,1,1,3,0\\r\\n59,1,3,160,273,0,0,125,0,0,2,0,2,0\\r\\n60,1,0,140,293,0,0,170,0,1.2,1,2,3,0\\r\\n56,1,0,132,184,0,0,105,1,2.1,1,1,1,0\\r\\n35,0,0,138,183,0,1,182,0,1.4,2,0,2,1\\r\\n61,1,0,138,166,0,0,125,1,3.6,1,1,2,0\\r\\n58,0,3,150,283,1,0,162,0,1,2,0,2,1\\r\\n52,1,0,128,255,0,1,161,1,0,2,1,3,0\\r\\n58,1,1,120,284,0,0,160,0,1.8,1,0,2,0\\r\\n37,1,2,130,250,0,1,187,0,3.5,0,0,2,1\\r\\n52,1,0,128,255,0,1,161,1,0,2,1,3,0\\r\\n67,1,0,120,229,0,0,129,1,2.6,1,2,3,0\\r\\n65,1,3,138,282,1,0,174,0,1.4,1,1,2,0\\r\\n46,1,1,101,197,1,1,156,0,0,2,0,3,1\\r\\n68,0,2,120,211,0,0,115,0,1.5,1,0,2,1\\r\\n43,1,0,115,303,0,1,181,0,1.2,1,0,2,1\\r\\n68,0,2,120,211,0,0,115,0,1.5,1,0,2,1\\r\\n51,1,0,140,299,0,1,173,1,1.6,2,0,3,0\\r\\n52,1,0,112,230,0,1,160,0,0,2,1,2,0\\r\\n64,1,2,140,335,0,1,158,0,0,2,0,2,0\\r\\n59,1,3,170,288,0,0,159,0,0.2,1,0,3,0\\r\\n52,1,0,125,212,0,1,168,0,1,2,2,3,0\\r\\n59,1,3,160,273,0,0,125,0,0,2,0,2,0\\r\\n60,0,3,150,240,0,1,171,0,0.9,2,0,2,1\\r\\n41,1,2,112,250,0,1,179,0,0,2,0,2,1\\r\\n41,1,1,110,235,0,1,153,0,0,2,0,2,1\\r\\n56,1,1,120,240,0,1,169,0,0,0,0,2,1\\r\\n56,1,1,120,236,0,1,178,0,0.8,2,0,2,1\\r\\n48,0,2,130,275,0,1,139,0,0.2,2,0,2,1\\r\\n39,1,2,140,321,0,0,182,0,0,2,0,2,1\\r\\n64,1,3,170,227,0,0,155,0,0.6,1,0,3,1\\r\\n57,1,0,140,192,0,1,148,0,0.4,1,0,1,1\\r\\n59,1,3,160,273,0,0,125,0,0,2,0,2,0\\r\\n60,1,0,130,206,0,0,132,1,2.4,1,2,3,0\\r\\n61,1,0,140,207,0,0,138,1,1.9,2,1,3,0\\r\\n43,0,2,122,213,0,1,165,0,0.2,1,0,2,1\\r\\n54,1,0,120,188,0,1,113,0,1.4,1,1,3,0\\r\\n59,1,0,138,271,0,0,182,0,0,2,0,2,1\\r\\n57,1,0,132,207,0,1,168,1,0,2,0,3,1\\r\\n57,1,1,154,232,0,0,164,0,0,2,1,2,0\\r\\n57,1,0,130,131,0,1,115,1,1.2,1,1,3,0\\r\\n48,1,0,124,274,0,0,166,0,0.5,1,0,3,0\\r\\n70,1,0,145,174,0,1,125,1,2.6,0,0,3,0\\r\\n57,1,0,165,289,1,0,124,0,1,1,3,3,0\\r\\n61,1,0,120,260,0,1,140,1,3.6,1,1,3,0\\r\\n57,1,0,110,201,0,1,126,1,1.5,1,0,1,1\\r\\n60,0,0,150,258,0,0,157,0,2.6,1,2,3,0\\r\\n63,0,0,150,407,0,0,154,0,4,1,3,3,0\\r\\n55,0,0,128,205,0,2,130,1,2,1,1,3,0\\r\\n64,0,0,180,325,0,1,154,1,0,2,0,2,1\\r\\n54,1,0,110,239,0,1,126,1,2.8,1,1,3,0\\r\\n52,1,0,128,204,1,1,156,1,1,1,0,0,0\\r\\n51,1,0,140,299,0,1,173,1,1.6,2,0,3,0\\r\\n62,0,2,130,263,0,1,97,0,1.2,1,1,3,0\\r\\n59,1,3,178,270,0,0,145,0,4.2,0,0,3,1\\r\\n52,1,1,134,201,0,1,158,0,0.8,2,1,2,1\\r\\n42,0,0,102,265,0,0,122,0,0.6,1,0,2,1\\r\\n59,1,0,135,234,0,1,161,0,0.5,1,0,3,1\\r\\n61,1,3,134,234,0,1,145,0,2.6,1,2,2,0\\r\\n42,0,0,102,265,0,0,122,0,0.6,1,0,2,1\\r\\n62,0,0,140,268,0,0,160,0,3.6,0,2,2,0\\r\\n59,1,2,126,218,1,1,134,0,2.2,1,1,1,0\\r\\n55,1,1,130,262,0,1,155,0,0,2,0,2,1\\r\\n64,1,0,120,246,0,0,96,1,2.2,0,1,2,0\\r\\n42,1,0,140,226,0,1,178,0,0,2,0,2,1\\r\\n50,0,1,120,244,0,1,162,0,1.1,2,0,2,1\\r\\n62,1,0,120,267,0,1,99,1,1.8,1,2,3,0\\r\\n50,1,0,144,200,0,0,126,1,0.9,1,0,3,0\\r\\n50,1,2,140,233,0,1,163,0,0.6,1,1,3,0\\r\\n58,0,1,136,319,1,0,152,0,0,2,2,2,0\\r\\n35,1,0,120,198,0,1,130,1,1.6,1,0,3,0\\r\\n45,1,0,104,208,0,0,148,1,3,1,0,2,1\\r\\n66,1,0,112,212,0,0,132,1,0.1,2,1,2,0\\r\\n46,1,0,120,249,0,0,144,0,0.8,2,0,3,0\\r\\n65,1,0,135,254,0,0,127,0,2.8,1,1,3,0\\r\\n47,1,2,130,253,0,1,179,0,0,2,0,2,1\\r\\n59,1,3,134,204,0,1,162,0,0.8,2,2,2,0\\r\\n38,1,3,120,231,0,1,182,1,3.8,1,0,3,0\\r\\n39,1,0,118,219,0,1,140,0,1.2,1,0,3,0\\r\\n58,1,0,146,218,0,1,105,0,2,1,1,3,0\\r\\n44,1,1,120,263,0,1,173,0,0,2,0,3,1\\r\\n54,1,0,140,239,0,1,160,0,1.2,2,0,2,1\\r\\n61,0,0,130,330,0,0,169,0,0,2,0,2,0\\r\\n57,1,0,130,131,0,1,115,1,1.2,1,1,3,0\\r\\n54,1,0,110,206,0,0,108,1,0,1,1,2,0\\r\\n42,1,2,120,240,1,1,194,0,0.8,0,0,3,1\\r\\n54,1,0,124,266,0,0,109,1,2.2,1,1,3,0\\r\\n60,1,0,130,206,0,0,132,1,2.4,1,2,3,0\\r\\n65,1,0,135,254,0,0,127,0,2.8,1,1,3,0\\r\\n40,1,0,152,223,0,1,181,0,0,2,0,3,0\\r\\n51,0,2,140,308,0,0,142,0,1.5,2,1,2,1\\r\\n38,1,3,120,231,0,1,182,1,3.8,1,0,3,0\\r\\n42,1,2,130,180,0,1,150,0,0,2,0,2,1\\r\\n56,1,1,120,240,0,1,169,0,0,0,0,2,1\\r\\n43,1,2,130,315,0,1,162,0,1.9,2,1,2,1\\r\\n64,1,2,140,335,0,1,158,0,0,2,0,2,0\\r\\n53,1,0,142,226,0,0,111,1,0,2,0,3,1\\r\\n49,0,1,134,271,0,1,162,0,0,1,0,2,1\\r\\n57,0,0,140,241,0,1,123,1,0.2,1,0,3,0\\r\\n52,0,2,136,196,0,0,169,0,0.1,1,0,2,1\\r\\n69,0,3,140,239,0,1,151,0,1.8,2,2,2,1\\r\\n65,1,0,120,177,0,1,140,0,0.4,2,0,3,1\\r\\n66,0,0,178,228,1,1,165,1,1,1,2,3,0\\r\\n56,1,3,120,193,0,0,162,0,1.9,1,0,3,1\\r\\n67,0,2,152,277,0,1,172,0,0,2,1,2,1\\r\\n54,0,2,160,201,0,1,163,0,0,2,1,2,1\\r\\n70,1,0,145,174,0,1,125,1,2.6,0,0,3,0\\r\\n57,1,0,132,207,0,1,168,1,0,2,0,3,1\\r\\n67,1,0,160,286,0,0,108,1,1.5,1,3,2,0\\r\\n62,0,2,130,263,0,1,97,0,1.2,1,1,3,0\\r\\n54,0,2,135,304,1,1,170,0,0,2,0,2,1\\r\\n45,0,0,138,236,0,0,152,1,0.2,1,0,2,1\\r\\n53,0,0,130,264,0,0,143,0,0.4,1,0,2,1\\r\\n62,1,2,130,231,0,1,146,0,1.8,1,3,3,1\\r\\n49,0,0,130,269,0,1,163,0,0,2,0,2,1\\r\\n50,1,2,140,233,0,1,163,0,0.6,1,1,3,0\\r\\n65,0,2,140,417,1,0,157,0,0.8,2,1,2,1\\r\\n69,0,3,140,239,0,1,151,0,1.8,2,2,2,1\\r\\n52,0,2,136,196,0,0,169,0,0.1,1,0,2,1\\r\\n58,0,0,100,248,0,0,122,0,1,1,0,2,1\\r\\n52,1,0,108,233,1,1,147,0,0.1,2,3,3,1\\r\\n57,0,0,140,241,0,1,123,1,0.2,1,0,3,0\\r\\n44,0,2,108,141,0,1,175,0,0.6,1,0,2,1\\r\\n76,0,2,140,197,0,2,116,0,1.1,1,0,2,1\\r\\n58,1,0,128,259,0,0,130,1,3,1,2,3,0\\r\\n60,0,2,120,178,1,1,96,0,0,2,0,2,1\\r\\n53,1,0,140,203,1,0,155,1,3.1,0,0,3,0\\r\\n52,1,1,120,325,0,1,172,0,0.2,2,0,2,1\\r\\n38,1,2,138,175,0,1,173,0,0,2,4,2,1\\r\\n52,1,2,172,199,1,1,162,0,0.5,2,0,3,1\\r\\n52,1,3,118,186,0,0,190,0,0,1,0,1,1\\r\\n51,1,2,125,245,1,0,166,0,2.4,1,0,2,1\\r\\n43,1,0,110,211,0,1,161,0,0,2,0,3,1\\r\\n39,1,0,118,219,0,1,140,0,1.2,1,0,3,0\\r\\n63,0,0,108,269,0,1,169,1,1.8,1,2,2,0\\r\\n52,1,1,128,205,1,1,184,0,0,2,0,2,1\\r\\n44,1,0,110,197,0,0,177,0,0,2,1,2,0\\r\\n45,1,0,142,309,0,0,147,1,0,1,3,3,0\\r\\n57,1,0,140,192,0,1,148,0,0.4,1,0,1,1\\r\\n39,1,0,118,219,0,1,140,0,1.2,1,0,3,0\\r\\n67,0,0,106,223,0,1,142,0,0.3,2,2,2,1\\r\\n64,1,0,128,263,0,1,105,1,0.2,1,1,3,1\\r\\n59,1,0,135,234,0,1,161,0,0.5,1,0,3,1\\r\\n62,1,2,130,231,0,1,146,0,1.8,1,3,3,1\\r\\n55,0,0,180,327,0,2,117,1,3.4,1,0,2,0\\r\\n57,1,1,154,232,0,0,164,0,0,2,1,2,0\\r\\n60,1,0,140,293,0,0,170,0,1.2,1,2,3,0\\r\\n71,0,1,160,302,0,1,162,0,0.4,2,2,2,1\\r\\n56,1,1,120,236,0,1,178,0,0.8,2,0,2,1\\r\\n60,1,0,117,230,1,1,160,1,1.4,2,2,3,0\\r\\n50,0,0,110,254,0,0,159,0,0,2,0,2,1\\r\\n43,1,0,132,247,1,0,143,1,0.1,1,4,3,0\\r\\n59,1,0,110,239,0,0,142,1,1.2,1,1,3,0\\r\\n44,1,1,120,263,0,1,173,0,0,2,0,3,1\\r\\n56,0,0,134,409,0,0,150,1,1.9,1,2,3,0\\r\\n54,1,0,120,188,0,1,113,0,1.4,1,1,3,0\\r\\n42,1,0,136,315,0,1,125,1,1.8,1,0,1,0\\r\\n67,1,0,125,254,1,1,163,0,0.2,1,2,3,0\\r\\n64,1,0,145,212,0,0,132,0,2,1,2,1,0\\r\\n42,1,0,140,226,0,1,178,0,0,2,0,2,1\\r\\n66,1,0,112,212,0,0,132,1,0.1,2,1,2,0\\r\\n52,1,0,108,233,1,1,147,0,0.1,2,3,3,1\\r\\n51,0,2,140,308,0,0,142,0,1.5,2,1,2,1\\r\\n55,0,0,128,205,0,2,130,1,2,1,1,3,0\\r\\n58,1,2,140,211,1,0,165,0,0,2,0,2,1\\r\\n56,1,3,120,193,0,0,162,0,1.9,1,0,3,1\\r\\n42,1,1,120,295,0,1,162,0,0,2,0,2,1\\r\\n40,1,0,152,223,0,1,181,0,0,2,0,3,0\\r\\n51,1,0,140,299,0,1,173,1,1.6,2,0,3,0\\r\\n45,1,1,128,308,0,0,170,0,0,2,0,2,1\\r\\n48,1,1,110,229,0,1,168,0,1,0,0,3,0\\r\\n58,1,0,114,318,0,2,140,0,4.4,0,3,1,0\\r\\n44,0,2,108,141,0,1,175,0,0.6,1,0,2,1\\r\\n58,1,0,128,216,0,0,131,1,2.2,1,3,3,0\\r\\n65,1,3,138,282,1,0,174,0,1.4,1,1,2,0\\r\\n53,1,0,123,282,0,1,95,1,2,1,2,3,0\\r\\n41,1,0,110,172,0,0,158,0,0,2,0,3,0\\r\\n47,1,0,112,204,0,1,143,0,0.1,2,0,2,1\\r\\n59,1,1,140,221,0,1,164,1,0,2,0,2,1\\r\\n60,1,0,125,258,0,0,141,1,2.8,1,1,3,0\\r\\n47,1,0,110,275,0,0,118,1,1,1,1,2,0\\r\\n50,0,0,110,254,0,0,159,0,0,2,0,2,1\\r\\n54,1,0,120,188,0,1,113,0,1.4,1,1,3,0\\r\\n'}"
            ]
          },
          "metadata": {},
          "execution_count": 9
        }
      ]
    },
    {
      "cell_type": "code",
      "source": [
        "heart1 = pd.read_csv(\"heart.csv\")"
      ],
      "metadata": {
        "id": "vb-X0b0dBkbq"
      },
      "execution_count": null,
      "outputs": []
    },
    {
      "cell_type": "code",
      "source": [
        "from sklearn.impute import SimpleImputer\n",
        "imputer = SimpleImputer(strategy=\"median\") #fill the median at empty spaces \n",
        "imputer.fit(heart1)\n",
        "X = imputer.transform(heart1)\n",
        "heart=pd.DataFrame(X, columns=heart1.columns)"
      ],
      "metadata": {
        "id": "5euorn7SBoJJ"
      },
      "execution_count": null,
      "outputs": []
    },
    {
      "cell_type": "code",
      "source": [
        "heart.head(303) #view the head"
      ],
      "metadata": {
        "colab": {
          "base_uri": "https://localhost:8080/",
          "height": 424
        },
        "id": "2SPfueUIBsQa",
        "outputId": "64cc5200-9bbb-4515-ad54-b2f514db7b50"
      },
      "execution_count": null,
      "outputs": [
        {
          "output_type": "execute_result",
          "data": {
            "text/plain": [
              "      age  sex   cp  trestbps   chol  fbs  restecg  thalach  exang  oldpeak  \\\n",
              "0    52.0  1.0  0.0     125.0  212.0  0.0      1.0    168.0    0.0      1.0   \n",
              "1    53.0  1.0  0.0     140.0  203.0  1.0      0.0    155.0    1.0      3.1   \n",
              "2    70.0  1.0  0.0     145.0  174.0  0.0      1.0    125.0    1.0      2.6   \n",
              "3    61.0  1.0  0.0     148.0  203.0  0.0      1.0    161.0    0.0      0.0   \n",
              "4    62.0  0.0  0.0     138.0  294.0  1.0      1.0    106.0    0.0      1.9   \n",
              "..    ...  ...  ...       ...    ...  ...      ...      ...    ...      ...   \n",
              "298  35.0  1.0  1.0     122.0  192.0  0.0      1.0    174.0    0.0      0.0   \n",
              "299  52.0  1.0  1.0     120.0  325.0  0.0      1.0    172.0    0.0      0.2   \n",
              "300  46.0  0.0  1.0     105.0  204.0  0.0      1.0    172.0    0.0      0.0   \n",
              "301  51.0  1.0  2.0      94.0  227.0  0.0      1.0    154.0    1.0      0.0   \n",
              "302  55.0  0.0  1.0     132.0  342.0  0.0      1.0    166.0    0.0      1.2   \n",
              "\n",
              "     slope   ca  thal  target  \n",
              "0      2.0  2.0   3.0     0.0  \n",
              "1      0.0  0.0   3.0     0.0  \n",
              "2      0.0  0.0   3.0     0.0  \n",
              "3      2.0  1.0   3.0     0.0  \n",
              "4      1.0  3.0   2.0     0.0  \n",
              "..     ...  ...   ...     ...  \n",
              "298    2.0  0.0   2.0     1.0  \n",
              "299    2.0  0.0   2.0     1.0  \n",
              "300    2.0  0.0   2.0     1.0  \n",
              "301    2.0  1.0   3.0     1.0  \n",
              "302    2.0  0.0   2.0     1.0  \n",
              "\n",
              "[303 rows x 14 columns]"
            ],
            "text/html": [
              "\n",
              "  <div id=\"df-ed85d8ca-1ba6-43c8-a4ff-d3e6d80c5865\">\n",
              "    <div class=\"colab-df-container\">\n",
              "      <div>\n",
              "<style scoped>\n",
              "    .dataframe tbody tr th:only-of-type {\n",
              "        vertical-align: middle;\n",
              "    }\n",
              "\n",
              "    .dataframe tbody tr th {\n",
              "        vertical-align: top;\n",
              "    }\n",
              "\n",
              "    .dataframe thead th {\n",
              "        text-align: right;\n",
              "    }\n",
              "</style>\n",
              "<table border=\"1\" class=\"dataframe\">\n",
              "  <thead>\n",
              "    <tr style=\"text-align: right;\">\n",
              "      <th></th>\n",
              "      <th>age</th>\n",
              "      <th>sex</th>\n",
              "      <th>cp</th>\n",
              "      <th>trestbps</th>\n",
              "      <th>chol</th>\n",
              "      <th>fbs</th>\n",
              "      <th>restecg</th>\n",
              "      <th>thalach</th>\n",
              "      <th>exang</th>\n",
              "      <th>oldpeak</th>\n",
              "      <th>slope</th>\n",
              "      <th>ca</th>\n",
              "      <th>thal</th>\n",
              "      <th>target</th>\n",
              "    </tr>\n",
              "  </thead>\n",
              "  <tbody>\n",
              "    <tr>\n",
              "      <th>0</th>\n",
              "      <td>52.0</td>\n",
              "      <td>1.0</td>\n",
              "      <td>0.0</td>\n",
              "      <td>125.0</td>\n",
              "      <td>212.0</td>\n",
              "      <td>0.0</td>\n",
              "      <td>1.0</td>\n",
              "      <td>168.0</td>\n",
              "      <td>0.0</td>\n",
              "      <td>1.0</td>\n",
              "      <td>2.0</td>\n",
              "      <td>2.0</td>\n",
              "      <td>3.0</td>\n",
              "      <td>0.0</td>\n",
              "    </tr>\n",
              "    <tr>\n",
              "      <th>1</th>\n",
              "      <td>53.0</td>\n",
              "      <td>1.0</td>\n",
              "      <td>0.0</td>\n",
              "      <td>140.0</td>\n",
              "      <td>203.0</td>\n",
              "      <td>1.0</td>\n",
              "      <td>0.0</td>\n",
              "      <td>155.0</td>\n",
              "      <td>1.0</td>\n",
              "      <td>3.1</td>\n",
              "      <td>0.0</td>\n",
              "      <td>0.0</td>\n",
              "      <td>3.0</td>\n",
              "      <td>0.0</td>\n",
              "    </tr>\n",
              "    <tr>\n",
              "      <th>2</th>\n",
              "      <td>70.0</td>\n",
              "      <td>1.0</td>\n",
              "      <td>0.0</td>\n",
              "      <td>145.0</td>\n",
              "      <td>174.0</td>\n",
              "      <td>0.0</td>\n",
              "      <td>1.0</td>\n",
              "      <td>125.0</td>\n",
              "      <td>1.0</td>\n",
              "      <td>2.6</td>\n",
              "      <td>0.0</td>\n",
              "      <td>0.0</td>\n",
              "      <td>3.0</td>\n",
              "      <td>0.0</td>\n",
              "    </tr>\n",
              "    <tr>\n",
              "      <th>3</th>\n",
              "      <td>61.0</td>\n",
              "      <td>1.0</td>\n",
              "      <td>0.0</td>\n",
              "      <td>148.0</td>\n",
              "      <td>203.0</td>\n",
              "      <td>0.0</td>\n",
              "      <td>1.0</td>\n",
              "      <td>161.0</td>\n",
              "      <td>0.0</td>\n",
              "      <td>0.0</td>\n",
              "      <td>2.0</td>\n",
              "      <td>1.0</td>\n",
              "      <td>3.0</td>\n",
              "      <td>0.0</td>\n",
              "    </tr>\n",
              "    <tr>\n",
              "      <th>4</th>\n",
              "      <td>62.0</td>\n",
              "      <td>0.0</td>\n",
              "      <td>0.0</td>\n",
              "      <td>138.0</td>\n",
              "      <td>294.0</td>\n",
              "      <td>1.0</td>\n",
              "      <td>1.0</td>\n",
              "      <td>106.0</td>\n",
              "      <td>0.0</td>\n",
              "      <td>1.9</td>\n",
              "      <td>1.0</td>\n",
              "      <td>3.0</td>\n",
              "      <td>2.0</td>\n",
              "      <td>0.0</td>\n",
              "    </tr>\n",
              "    <tr>\n",
              "      <th>...</th>\n",
              "      <td>...</td>\n",
              "      <td>...</td>\n",
              "      <td>...</td>\n",
              "      <td>...</td>\n",
              "      <td>...</td>\n",
              "      <td>...</td>\n",
              "      <td>...</td>\n",
              "      <td>...</td>\n",
              "      <td>...</td>\n",
              "      <td>...</td>\n",
              "      <td>...</td>\n",
              "      <td>...</td>\n",
              "      <td>...</td>\n",
              "      <td>...</td>\n",
              "    </tr>\n",
              "    <tr>\n",
              "      <th>298</th>\n",
              "      <td>35.0</td>\n",
              "      <td>1.0</td>\n",
              "      <td>1.0</td>\n",
              "      <td>122.0</td>\n",
              "      <td>192.0</td>\n",
              "      <td>0.0</td>\n",
              "      <td>1.0</td>\n",
              "      <td>174.0</td>\n",
              "      <td>0.0</td>\n",
              "      <td>0.0</td>\n",
              "      <td>2.0</td>\n",
              "      <td>0.0</td>\n",
              "      <td>2.0</td>\n",
              "      <td>1.0</td>\n",
              "    </tr>\n",
              "    <tr>\n",
              "      <th>299</th>\n",
              "      <td>52.0</td>\n",
              "      <td>1.0</td>\n",
              "      <td>1.0</td>\n",
              "      <td>120.0</td>\n",
              "      <td>325.0</td>\n",
              "      <td>0.0</td>\n",
              "      <td>1.0</td>\n",
              "      <td>172.0</td>\n",
              "      <td>0.0</td>\n",
              "      <td>0.2</td>\n",
              "      <td>2.0</td>\n",
              "      <td>0.0</td>\n",
              "      <td>2.0</td>\n",
              "      <td>1.0</td>\n",
              "    </tr>\n",
              "    <tr>\n",
              "      <th>300</th>\n",
              "      <td>46.0</td>\n",
              "      <td>0.0</td>\n",
              "      <td>1.0</td>\n",
              "      <td>105.0</td>\n",
              "      <td>204.0</td>\n",
              "      <td>0.0</td>\n",
              "      <td>1.0</td>\n",
              "      <td>172.0</td>\n",
              "      <td>0.0</td>\n",
              "      <td>0.0</td>\n",
              "      <td>2.0</td>\n",
              "      <td>0.0</td>\n",
              "      <td>2.0</td>\n",
              "      <td>1.0</td>\n",
              "    </tr>\n",
              "    <tr>\n",
              "      <th>301</th>\n",
              "      <td>51.0</td>\n",
              "      <td>1.0</td>\n",
              "      <td>2.0</td>\n",
              "      <td>94.0</td>\n",
              "      <td>227.0</td>\n",
              "      <td>0.0</td>\n",
              "      <td>1.0</td>\n",
              "      <td>154.0</td>\n",
              "      <td>1.0</td>\n",
              "      <td>0.0</td>\n",
              "      <td>2.0</td>\n",
              "      <td>1.0</td>\n",
              "      <td>3.0</td>\n",
              "      <td>1.0</td>\n",
              "    </tr>\n",
              "    <tr>\n",
              "      <th>302</th>\n",
              "      <td>55.0</td>\n",
              "      <td>0.0</td>\n",
              "      <td>1.0</td>\n",
              "      <td>132.0</td>\n",
              "      <td>342.0</td>\n",
              "      <td>0.0</td>\n",
              "      <td>1.0</td>\n",
              "      <td>166.0</td>\n",
              "      <td>0.0</td>\n",
              "      <td>1.2</td>\n",
              "      <td>2.0</td>\n",
              "      <td>0.0</td>\n",
              "      <td>2.0</td>\n",
              "      <td>1.0</td>\n",
              "    </tr>\n",
              "  </tbody>\n",
              "</table>\n",
              "<p>303 rows × 14 columns</p>\n",
              "</div>\n",
              "      <button class=\"colab-df-convert\" onclick=\"convertToInteractive('df-ed85d8ca-1ba6-43c8-a4ff-d3e6d80c5865')\"\n",
              "              title=\"Convert this dataframe to an interactive table.\"\n",
              "              style=\"display:none;\">\n",
              "        \n",
              "  <svg xmlns=\"http://www.w3.org/2000/svg\" height=\"24px\"viewBox=\"0 0 24 24\"\n",
              "       width=\"24px\">\n",
              "    <path d=\"M0 0h24v24H0V0z\" fill=\"none\"/>\n",
              "    <path d=\"M18.56 5.44l.94 2.06.94-2.06 2.06-.94-2.06-.94-.94-2.06-.94 2.06-2.06.94zm-11 1L8.5 8.5l.94-2.06 2.06-.94-2.06-.94L8.5 2.5l-.94 2.06-2.06.94zm10 10l.94 2.06.94-2.06 2.06-.94-2.06-.94-.94-2.06-.94 2.06-2.06.94z\"/><path d=\"M17.41 7.96l-1.37-1.37c-.4-.4-.92-.59-1.43-.59-.52 0-1.04.2-1.43.59L10.3 9.45l-7.72 7.72c-.78.78-.78 2.05 0 2.83L4 21.41c.39.39.9.59 1.41.59.51 0 1.02-.2 1.41-.59l7.78-7.78 2.81-2.81c.8-.78.8-2.07 0-2.86zM5.41 20L4 18.59l7.72-7.72 1.47 1.35L5.41 20z\"/>\n",
              "  </svg>\n",
              "      </button>\n",
              "      \n",
              "  <style>\n",
              "    .colab-df-container {\n",
              "      display:flex;\n",
              "      flex-wrap:wrap;\n",
              "      gap: 12px;\n",
              "    }\n",
              "\n",
              "    .colab-df-convert {\n",
              "      background-color: #E8F0FE;\n",
              "      border: none;\n",
              "      border-radius: 50%;\n",
              "      cursor: pointer;\n",
              "      display: none;\n",
              "      fill: #1967D2;\n",
              "      height: 32px;\n",
              "      padding: 0 0 0 0;\n",
              "      width: 32px;\n",
              "    }\n",
              "\n",
              "    .colab-df-convert:hover {\n",
              "      background-color: #E2EBFA;\n",
              "      box-shadow: 0px 1px 2px rgba(60, 64, 67, 0.3), 0px 1px 3px 1px rgba(60, 64, 67, 0.15);\n",
              "      fill: #174EA6;\n",
              "    }\n",
              "\n",
              "    [theme=dark] .colab-df-convert {\n",
              "      background-color: #3B4455;\n",
              "      fill: #D2E3FC;\n",
              "    }\n",
              "\n",
              "    [theme=dark] .colab-df-convert:hover {\n",
              "      background-color: #434B5C;\n",
              "      box-shadow: 0px 1px 3px 1px rgba(0, 0, 0, 0.15);\n",
              "      filter: drop-shadow(0px 1px 2px rgba(0, 0, 0, 0.3));\n",
              "      fill: #FFFFFF;\n",
              "    }\n",
              "  </style>\n",
              "\n",
              "      <script>\n",
              "        const buttonEl =\n",
              "          document.querySelector('#df-ed85d8ca-1ba6-43c8-a4ff-d3e6d80c5865 button.colab-df-convert');\n",
              "        buttonEl.style.display =\n",
              "          google.colab.kernel.accessAllowed ? 'block' : 'none';\n",
              "\n",
              "        async function convertToInteractive(key) {\n",
              "          const element = document.querySelector('#df-ed85d8ca-1ba6-43c8-a4ff-d3e6d80c5865');\n",
              "          const dataTable =\n",
              "            await google.colab.kernel.invokeFunction('convertToInteractive',\n",
              "                                                     [key], {});\n",
              "          if (!dataTable) return;\n",
              "\n",
              "          const docLinkHtml = 'Like what you see? Visit the ' +\n",
              "            '<a target=\"_blank\" href=https://colab.research.google.com/notebooks/data_table.ipynb>data table notebook</a>'\n",
              "            + ' to learn more about interactive tables.';\n",
              "          element.innerHTML = '';\n",
              "          dataTable['output_type'] = 'display_data';\n",
              "          await google.colab.output.renderOutput(dataTable, element);\n",
              "          const docLink = document.createElement('div');\n",
              "          docLink.innerHTML = docLinkHtml;\n",
              "          element.appendChild(docLink);\n",
              "        }\n",
              "      </script>\n",
              "    </div>\n",
              "  </div>\n",
              "  "
            ]
          },
          "metadata": {},
          "execution_count": 12
        }
      ]
    },
    {
      "cell_type": "code",
      "source": [
        "# plot histogram to see the distribution of the data\n",
        "fig = plt.figure(figsize = (15,20))\n",
        "ax = fig.gca()\n",
        "heart1.hist(ax = ax)\n",
        "plt.show()"
      ],
      "metadata": {
        "colab": {
          "base_uri": "https://localhost:8080/",
          "height": 1000
        },
        "id": "8JECahtOBx_U",
        "outputId": "61af0ccc-c3a9-4770-a9ac-316fd49ad6cf"
      },
      "execution_count": null,
      "outputs": [
        {
          "output_type": "display_data",
          "data": {
            "text/plain": [
              "<Figure size 1080x1440 with 16 Axes>"
            ],
            "image/png": "[encoded data removed]"
          },
          "metadata": {
            "needs_background": "light"
          }
        }
      ]
    },
    {
      "cell_type": "code",
      "source": [
        "X = heart.iloc[:,:-1]\n",
        "y = heart.iloc[:,-1]\n",
        "\n",
        "bestfeatures = SelectKBest(score_func=chi2, k=10)\n",
        "fit = bestfeatures.fit(X,y)"
      ],
      "metadata": {
        "id": "ICOm9AwoB-TB"
      },
      "execution_count": null,
      "outputs": []
    },
    {
      "cell_type": "code",
      "source": [
        "dfscores = pd.DataFrame(fit.scores_)\n",
        "dfcolumns = pd.DataFrame(X.columns)"
      ],
      "metadata": {
        "id": "IUTAdp63CCmO"
      },
      "execution_count": null,
      "outputs": []
    },
    {
      "cell_type": "code",
      "source": [
        "#concat two dataframes for better visualization \n",
        "featureScores = pd.concat([dfcolumns,dfscores],axis=1)\n",
        "featureScores.columns = ['Specs','Score']  #naming the dataframe columns"
      ],
      "metadata": {
        "id": "NkH4U26BCGTd"
      },
      "execution_count": null,
      "outputs": []
    },
    {
      "cell_type": "code",
      "source": [
        "featureScores"
      ],
      "metadata": {
        "colab": {
          "base_uri": "https://localhost:8080/",
          "height": 457
        },
        "id": "-IyurHebCL4N",
        "outputId": "eabec8bb-ee2c-45fb-ab38-4ec4c83b467d"
      },
      "execution_count": null,
      "outputs": [
        {
          "output_type": "execute_result",
          "data": {
            "text/plain": [
              "       Specs       Score\n",
              "0        age   81.425368\n",
              "1        sex   24.373650\n",
              "2         cp  217.823922\n",
              "3   trestbps   45.974069\n",
              "4       chol  110.723364\n",
              "5        fbs    1.477550\n",
              "6    restecg    9.739343\n",
              "7    thalach  650.008493\n",
              "8      exang  130.470927\n",
              "9    oldpeak  253.653461\n",
              "10     slope   33.673948\n",
              "11        ca  210.625919\n",
              "12      thal   19.373465"
            ],
            "text/html": [
              "\n",
              "  <div id=\"df-d50e9314-a030-49e1-81e3-4c709a355609\">\n",
              "    <div class=\"colab-df-container\">\n",
              "      <div>\n",
              "<style scoped>\n",
              "    .dataframe tbody tr th:only-of-type {\n",
              "        vertical-align: middle;\n",
              "    }\n",
              "\n",
              "    .dataframe tbody tr th {\n",
              "        vertical-align: top;\n",
              "    }\n",
              "\n",
              "    .dataframe thead th {\n",
              "        text-align: right;\n",
              "    }\n",
              "</style>\n",
              "<table border=\"1\" class=\"dataframe\">\n",
              "  <thead>\n",
              "    <tr style=\"text-align: right;\">\n",
              "      <th></th>\n",
              "      <th>Specs</th>\n",
              "      <th>Score</th>\n",
              "    </tr>\n",
              "  </thead>\n",
              "  <tbody>\n",
              "    <tr>\n",
              "      <th>0</th>\n",
              "      <td>age</td>\n",
              "      <td>81.425368</td>\n",
              "    </tr>\n",
              "    <tr>\n",
              "      <th>1</th>\n",
              "      <td>sex</td>\n",
              "      <td>24.373650</td>\n",
              "    </tr>\n",
              "    <tr>\n",
              "      <th>2</th>\n",
              "      <td>cp</td>\n",
              "      <td>217.823922</td>\n",
              "    </tr>\n",
              "    <tr>\n",
              "      <th>3</th>\n",
              "      <td>trestbps</td>\n",
              "      <td>45.974069</td>\n",
              "    </tr>\n",
              "    <tr>\n",
              "      <th>4</th>\n",
              "      <td>chol</td>\n",
              "      <td>110.723364</td>\n",
              "    </tr>\n",
              "    <tr>\n",
              "      <th>5</th>\n",
              "      <td>fbs</td>\n",
              "      <td>1.477550</td>\n",
              "    </tr>\n",
              "    <tr>\n",
              "      <th>6</th>\n",
              "      <td>restecg</td>\n",
              "      <td>9.739343</td>\n",
              "    </tr>\n",
              "    <tr>\n",
              "      <th>7</th>\n",
              "      <td>thalach</td>\n",
              "      <td>650.008493</td>\n",
              "    </tr>\n",
              "    <tr>\n",
              "      <th>8</th>\n",
              "      <td>exang</td>\n",
              "      <td>130.470927</td>\n",
              "    </tr>\n",
              "    <tr>\n",
              "      <th>9</th>\n",
              "      <td>oldpeak</td>\n",
              "      <td>253.653461</td>\n",
              "    </tr>\n",
              "    <tr>\n",
              "      <th>10</th>\n",
              "      <td>slope</td>\n",
              "      <td>33.673948</td>\n",
              "    </tr>\n",
              "    <tr>\n",
              "      <th>11</th>\n",
              "      <td>ca</td>\n",
              "      <td>210.625919</td>\n",
              "    </tr>\n",
              "    <tr>\n",
              "      <th>12</th>\n",
              "      <td>thal</td>\n",
              "      <td>19.373465</td>\n",
              "    </tr>\n",
              "  </tbody>\n",
              "</table>\n",
              "</div>\n",
              "      <button class=\"colab-df-convert\" onclick=\"convertToInteractive('df-d50e9314-a030-49e1-81e3-4c709a355609')\"\n",
              "              title=\"Convert this dataframe to an interactive table.\"\n",
              "              style=\"display:none;\">\n",
              "        \n",
              "  <svg xmlns=\"http://www.w3.org/2000/svg\" height=\"24px\"viewBox=\"0 0 24 24\"\n",
              "       width=\"24px\">\n",
              "    <path d=\"M0 0h24v24H0V0z\" fill=\"none\"/>\n",
              "    <path d=\"M18.56 5.44l.94 2.06.94-2.06 2.06-.94-2.06-.94-.94-2.06-.94 2.06-2.06.94zm-11 1L8.5 8.5l.94-2.06 2.06-.94-2.06-.94L8.5 2.5l-.94 2.06-2.06.94zm10 10l.94 2.06.94-2.06 2.06-.94-2.06-.94-.94-2.06-.94 2.06-2.06.94z\"/><path d=\"M17.41 7.96l-1.37-1.37c-.4-.4-.92-.59-1.43-.59-.52 0-1.04.2-1.43.59L10.3 9.45l-7.72 7.72c-.78.78-.78 2.05 0 2.83L4 21.41c.39.39.9.59 1.41.59.51 0 1.02-.2 1.41-.59l7.78-7.78 2.81-2.81c.8-.78.8-2.07 0-2.86zM5.41 20L4 18.59l7.72-7.72 1.47 1.35L5.41 20z\"/>\n",
              "  </svg>\n",
              "      </button>\n",
              "      \n",
              "  <style>\n",
              "    .colab-df-container {\n",
              "      display:flex;\n",
              "      flex-wrap:wrap;\n",
              "      gap: 12px;\n",
              "    }\n",
              "\n",
              "    .colab-df-convert {\n",
              "      background-color: #E8F0FE;\n",
              "      border: none;\n",
              "      border-radius: 50%;\n",
              "      cursor: pointer;\n",
              "      display: none;\n",
              "      fill: #1967D2;\n",
              "      height: 32px;\n",
              "      padding: 0 0 0 0;\n",
              "      width: 32px;\n",
              "    }\n",
              "\n",
              "    .colab-df-convert:hover {\n",
              "      background-color: #E2EBFA;\n",
              "      box-shadow: 0px 1px 2px rgba(60, 64, 67, 0.3), 0px 1px 3px 1px rgba(60, 64, 67, 0.15);\n",
              "      fill: #174EA6;\n",
              "    }\n",
              "\n",
              "    [theme=dark] .colab-df-convert {\n",
              "      background-color: #3B4455;\n",
              "      fill: #D2E3FC;\n",
              "    }\n",
              "\n",
              "    [theme=dark] .colab-df-convert:hover {\n",
              "      background-color: #434B5C;\n",
              "      box-shadow: 0px 1px 3px 1px rgba(0, 0, 0, 0.15);\n",
              "      filter: drop-shadow(0px 1px 2px rgba(0, 0, 0, 0.3));\n",
              "      fill: #FFFFFF;\n",
              "    }\n",
              "  </style>\n",
              "\n",
              "      <script>\n",
              "        const buttonEl =\n",
              "          document.querySelector('#df-d50e9314-a030-49e1-81e3-4c709a355609 button.colab-df-convert');\n",
              "        buttonEl.style.display =\n",
              "          google.colab.kernel.accessAllowed ? 'block' : 'none';\n",
              "\n",
              "        async function convertToInteractive(key) {\n",
              "          const element = document.querySelector('#df-d50e9314-a030-49e1-81e3-4c709a355609');\n",
              "          const dataTable =\n",
              "            await google.colab.kernel.invokeFunction('convertToInteractive',\n",
              "                                                     [key], {});\n",
              "          if (!dataTable) return;\n",
              "\n",
              "          const docLinkHtml = 'Like what you see? Visit the ' +\n",
              "            '<a target=\"_blank\" href=https://colab.research.google.com/notebooks/data_table.ipynb>data table notebook</a>'\n",
              "            + ' to learn more about interactive tables.';\n",
              "          element.innerHTML = '';\n",
              "          dataTable['output_type'] = 'display_data';\n",
              "          await google.colab.output.renderOutput(dataTable, element);\n",
              "          const docLink = document.createElement('div');\n",
              "          docLink.innerHTML = docLinkHtml;\n",
              "          element.appendChild(docLink);\n",
              "        }\n",
              "      </script>\n",
              "    </div>\n",
              "  </div>\n",
              "  "
            ]
          },
          "metadata": {},
          "execution_count": 17
        }
      ]
    },
    {
      "cell_type": "code",
      "source": [
        "print(featureScores.nlargest(6,'Score'))"
      ],
      "metadata": {
        "colab": {
          "base_uri": "https://localhost:8080/"
        },
        "id": "tJ680xHcCN7e",
        "outputId": "044d9ccd-ab15-447f-e8fc-356fec77d896"
      },
      "execution_count": null,
      "outputs": [
        {
          "output_type": "stream",
          "name": "stdout",
          "text": [
            "      Specs       Score\n",
            "7   thalach  650.008493\n",
            "9   oldpeak  253.653461\n",
            "2        cp  217.823922\n",
            "11       ca  210.625919\n",
            "8     exang  130.470927\n",
            "4      chol  110.723364\n"
          ]
        }
      ]
    },
    {
      "cell_type": "code",
      "source": [
        "dataset = pd.get_dummies(heart, columns = ['cp',  'ca']) #categorical data\n",
        "from sklearn.model_selection import train_test_split\n",
        "from sklearn.preprocessing import StandardScaler\n",
        "standardScaler = StandardScaler()\n",
        "columns_to_scale = ['chol',  'thalach', 'oldpeak', 'exang']\n",
        "dataset[columns_to_scale] = standardScaler.fit_transform(dataset[columns_to_scale])\n",
        "dataset = dataset.drop(['age','sex','fbs','restecg','thal','slope','trestbps'],axis=1)"
      ],
      "metadata": {
        "id": "6n1iE1o-CRwx"
      },
      "execution_count": null,
      "outputs": []
    },
    {
      "cell_type": "code",
      "source": [
        "dataset.head()"
      ],
      "metadata": {
        "colab": {
          "base_uri": "https://localhost:8080/",
          "height": 206
        },
        "id": "zOKB7-fMCWha",
        "outputId": "d4b38ac0-d93a-496c-afe2-89a9531e2ffd"
      },
      "execution_count": null,
      "outputs": [
        {
          "output_type": "execute_result",
          "data": {
            "text/plain": [
              "       chol   thalach     exang   oldpeak  target  cp_0.0  cp_1.0  cp_2.0  \\\n",
              "0 -0.659332  0.821321 -0.712287 -0.060888     0.0       1       0       0   \n",
              "1 -0.833861  0.255968  1.403928  1.727137     0.0       1       0       0   \n",
              "2 -1.396233 -1.048692  1.403928  1.301417     0.0       1       0       0   \n",
              "3 -0.833861  0.516900 -0.712287 -0.912329     0.0       1       0       0   \n",
              "4  0.930822 -1.874977 -0.712287  0.705408     0.0       1       0       0   \n",
              "\n",
              "   cp_3.0  ca_0.0  ca_1.0  ca_2.0  ca_3.0  ca_4.0  \n",
              "0       0       0       0       1       0       0  \n",
              "1       0       1       0       0       0       0  \n",
              "2       0       1       0       0       0       0  \n",
              "3       0       0       1       0       0       0  \n",
              "4       0       0       0       0       1       0  "
            ],
            "text/html": [
              "\n",
              "  <div id=\"df-0bcdfa42-09b4-4c26-9063-135231ea063e\">\n",
              "    <div class=\"colab-df-container\">\n",
              "      <div>\n",
              "<style scoped>\n",
              "    .dataframe tbody tr th:only-of-type {\n",
              "        vertical-align: middle;\n",
              "    }\n",
              "\n",
              "    .dataframe tbody tr th {\n",
              "        vertical-align: top;\n",
              "    }\n",
              "\n",
              "    .dataframe thead th {\n",
              "        text-align: right;\n",
              "    }\n",
              "</style>\n",
              "<table border=\"1\" class=\"dataframe\">\n",
              "  <thead>\n",
              "    <tr style=\"text-align: right;\">\n",
              "      <th></th>\n",
              "      <th>chol</th>\n",
              "      <th>thalach</th>\n",
              "      <th>exang</th>\n",
              "      <th>oldpeak</th>\n",
              "      <th>target</th>\n",
              "      <th>cp_0.0</th>\n",
              "      <th>cp_1.0</th>\n",
              "      <th>cp_2.0</th>\n",
              "      <th>cp_3.0</th>\n",
              "      <th>ca_0.0</th>\n",
              "      <th>ca_1.0</th>\n",
              "      <th>ca_2.0</th>\n",
              "      <th>ca_3.0</th>\n",
              "      <th>ca_4.0</th>\n",
              "    </tr>\n",
              "  </thead>\n",
              "  <tbody>\n",
              "    <tr>\n",
              "      <th>0</th>\n",
              "      <td>-0.659332</td>\n",
              "      <td>0.821321</td>\n",
              "      <td>-0.712287</td>\n",
              "      <td>-0.060888</td>\n",
              "      <td>0.0</td>\n",
              "      <td>1</td>\n",
              "      <td>0</td>\n",
              "      <td>0</td>\n",
              "      <td>0</td>\n",
              "      <td>0</td>\n",
              "      <td>0</td>\n",
              "      <td>1</td>\n",
              "      <td>0</td>\n",
              "      <td>0</td>\n",
              "    </tr>\n",
              "    <tr>\n",
              "      <th>1</th>\n",
              "      <td>-0.833861</td>\n",
              "      <td>0.255968</td>\n",
              "      <td>1.403928</td>\n",
              "      <td>1.727137</td>\n",
              "      <td>0.0</td>\n",
              "      <td>1</td>\n",
              "      <td>0</td>\n",
              "      <td>0</td>\n",
              "      <td>0</td>\n",
              "      <td>1</td>\n",
              "      <td>0</td>\n",
              "      <td>0</td>\n",
              "      <td>0</td>\n",
              "      <td>0</td>\n",
              "    </tr>\n",
              "    <tr>\n",
              "      <th>2</th>\n",
              "      <td>-1.396233</td>\n",
              "      <td>-1.048692</td>\n",
              "      <td>1.403928</td>\n",
              "      <td>1.301417</td>\n",
              "      <td>0.0</td>\n",
              "      <td>1</td>\n",
              "      <td>0</td>\n",
              "      <td>0</td>\n",
              "      <td>0</td>\n",
              "      <td>1</td>\n",
              "      <td>0</td>\n",
              "      <td>0</td>\n",
              "      <td>0</td>\n",
              "      <td>0</td>\n",
              "    </tr>\n",
              "    <tr>\n",
              "      <th>3</th>\n",
              "      <td>-0.833861</td>\n",
              "      <td>0.516900</td>\n",
              "      <td>-0.712287</td>\n",
              "      <td>-0.912329</td>\n",
              "      <td>0.0</td>\n",
              "      <td>1</td>\n",
              "      <td>0</td>\n",
              "      <td>0</td>\n",
              "      <td>0</td>\n",
              "      <td>0</td>\n",
              "      <td>1</td>\n",
              "      <td>0</td>\n",
              "      <td>0</td>\n",
              "      <td>0</td>\n",
              "    </tr>\n",
              "    <tr>\n",
              "      <th>4</th>\n",
              "      <td>0.930822</td>\n",
              "      <td>-1.874977</td>\n",
              "      <td>-0.712287</td>\n",
              "      <td>0.705408</td>\n",
              "      <td>0.0</td>\n",
              "      <td>1</td>\n",
              "      <td>0</td>\n",
              "      <td>0</td>\n",
              "      <td>0</td>\n",
              "      <td>0</td>\n",
              "      <td>0</td>\n",
              "      <td>0</td>\n",
              "      <td>1</td>\n",
              "      <td>0</td>\n",
              "    </tr>\n",
              "  </tbody>\n",
              "</table>\n",
              "</div>\n",
              "      <button class=\"colab-df-convert\" onclick=\"convertToInteractive('df-0bcdfa42-09b4-4c26-9063-135231ea063e')\"\n",
              "              title=\"Convert this dataframe to an interactive table.\"\n",
              "              style=\"display:none;\">\n",
              "        \n",
              "  <svg xmlns=\"http://www.w3.org/2000/svg\" height=\"24px\"viewBox=\"0 0 24 24\"\n",
              "       width=\"24px\">\n",
              "    <path d=\"M0 0h24v24H0V0z\" fill=\"none\"/>\n",
              "    <path d=\"M18.56 5.44l.94 2.06.94-2.06 2.06-.94-2.06-.94-.94-2.06-.94 2.06-2.06.94zm-11 1L8.5 8.5l.94-2.06 2.06-.94-2.06-.94L8.5 2.5l-.94 2.06-2.06.94zm10 10l.94 2.06.94-2.06 2.06-.94-2.06-.94-.94-2.06-.94 2.06-2.06.94z\"/><path d=\"M17.41 7.96l-1.37-1.37c-.4-.4-.92-.59-1.43-.59-.52 0-1.04.2-1.43.59L10.3 9.45l-7.72 7.72c-.78.78-.78 2.05 0 2.83L4 21.41c.39.39.9.59 1.41.59.51 0 1.02-.2 1.41-.59l7.78-7.78 2.81-2.81c.8-.78.8-2.07 0-2.86zM5.41 20L4 18.59l7.72-7.72 1.47 1.35L5.41 20z\"/>\n",
              "  </svg>\n",
              "      </button>\n",
              "      \n",
              "  <style>\n",
              "    .colab-df-container {\n",
              "      display:flex;\n",
              "      flex-wrap:wrap;\n",
              "      gap: 12px;\n",
              "    }\n",
              "\n",
              "    .colab-df-convert {\n",
              "      background-color: #E8F0FE;\n",
              "      border: none;\n",
              "      border-radius: 50%;\n",
              "      cursor: pointer;\n",
              "      display: none;\n",
              "      fill: #1967D2;\n",
              "      height: 32px;\n",
              "      padding: 0 0 0 0;\n",
              "      width: 32px;\n",
              "    }\n",
              "\n",
              "    .colab-df-convert:hover {\n",
              "      background-color: #E2EBFA;\n",
              "      box-shadow: 0px 1px 2px rgba(60, 64, 67, 0.3), 0px 1px 3px 1px rgba(60, 64, 67, 0.15);\n",
              "      fill: #174EA6;\n",
              "    }\n",
              "\n",
              "    [theme=dark] .colab-df-convert {\n",
              "      background-color: #3B4455;\n",
              "      fill: #D2E3FC;\n",
              "    }\n",
              "\n",
              "    [theme=dark] .colab-df-convert:hover {\n",
              "      background-color: #434B5C;\n",
              "      box-shadow: 0px 1px 3px 1px rgba(0, 0, 0, 0.15);\n",
              "      filter: drop-shadow(0px 1px 2px rgba(0, 0, 0, 0.3));\n",
              "      fill: #FFFFFF;\n",
              "    }\n",
              "  </style>\n",
              "\n",
              "      <script>\n",
              "        const buttonEl =\n",
              "          document.querySelector('#df-0bcdfa42-09b4-4c26-9063-135231ea063e button.colab-df-convert');\n",
              "        buttonEl.style.display =\n",
              "          google.colab.kernel.accessAllowed ? 'block' : 'none';\n",
              "\n",
              "        async function convertToInteractive(key) {\n",
              "          const element = document.querySelector('#df-0bcdfa42-09b4-4c26-9063-135231ea063e');\n",
              "          const dataTable =\n",
              "            await google.colab.kernel.invokeFunction('convertToInteractive',\n",
              "                                                     [key], {});\n",
              "          if (!dataTable) return;\n",
              "\n",
              "          const docLinkHtml = 'Like what you see? Visit the ' +\n",
              "            '<a target=\"_blank\" href=https://colab.research.google.com/notebooks/data_table.ipynb>data table notebook</a>'\n",
              "            + ' to learn more about interactive tables.';\n",
              "          element.innerHTML = '';\n",
              "          dataTable['output_type'] = 'display_data';\n",
              "          await google.colab.output.renderOutput(dataTable, element);\n",
              "          const docLink = document.createElement('div');\n",
              "          docLink.innerHTML = docLinkHtml;\n",
              "          element.appendChild(docLink);\n",
              "        }\n",
              "      </script>\n",
              "    </div>\n",
              "  </div>\n",
              "  "
            ]
          },
          "metadata": {},
          "execution_count": 20
        }
      ]
    },
    {
      "cell_type": "code",
      "source": [
        "from sklearn.model_selection import train_test_split\n",
        "train_set, test_set  = train_test_split(dataset, test_size=0.3, random_state=42)\n",
        "print(f\"Rows in train set: {len(train_set)}\\nRows in test set: {len(test_set)}\\n\")"
      ],
      "metadata": {
        "colab": {
          "base_uri": "https://localhost:8080/"
        },
        "id": "cV_C3Kz2Casn",
        "outputId": "12faf8c3-39ac-4bce-8019-62e365c2c581"
      },
      "execution_count": null,
      "outputs": [
        {
          "output_type": "stream",
          "name": "stdout",
          "text": [
            "Rows in train set: 717\n",
            "Rows in test set: 308\n",
            "\n"
          ]
        }
      ]
    },
    {
      "cell_type": "code",
      "source": [
        "X_train = train_set.iloc[:,0:13]  #independent columns for training \n",
        "y_train = train_set.iloc[:,-1]    #o/p for train set\n",
        "X_test = test_set.iloc[:,0:13]    #independent columns for testing \n",
        "y_test = test_set.iloc[:,-1]       #o/p for test set"
      ],
      "metadata": {
        "id": "TSEdOu3PCfNK"
      },
      "execution_count": null,
      "outputs": []
    },
    {
      "cell_type": "code",
      "source": [
        "from sklearn.model_selection import GridSearchCV\n",
        "from sklearn.metrics import confusion_matrix\n",
        "from sklearn.metrics import accuracy_score\n",
        "from sklearn.metrics import f1_score\n",
        "from sklearn.metrics import classification_report\n",
        "from sklearn.metrics import recall_score,precision_score,classification_report,roc_auc_score,roc_curve"
      ],
      "metadata": {
        "id": "jbmAVMuCCjaJ"
      },
      "execution_count": null,
      "outputs": []
    },
    {
      "cell_type": "code",
      "source": [
        "from sklearn.neighbors import KNeighborsClassifier\n",
        "error_rate = []\n",
        "for i in range(1,50): \n",
        "    knn = KNeighborsClassifier(n_neighbors=i)\n",
        "    knn.fit(X_train,y_train)\n",
        "    pred_i = knn.predict(X_test)\n",
        "    error_rate.append(np.mean(pred_i != y_test))\n",
        "  \n",
        "\n",
        "min = (np.argmin(error_rate) +1)\n",
        "print(min)\n",
        "plt.figure(figsize=(10,6))\n",
        "plt.plot(range(1,50),error_rate,color='blue', linestyle='dashed', marker='o', markerfacecolor='red', markersize=10)\n",
        "plt.title('Error Rate vs. K Value')\n",
        "plt.xlabel('K')\n",
        "plt.ylabel('Error Rate')\n"
      ],
      "metadata": {
        "colab": {
          "base_uri": "https://localhost:8080/",
          "height": 439
        },
        "id": "mQ7jdVtlCnce",
        "outputId": "dc81a188-fdef-4e12-d946-c997841afe0f"
      },
      "execution_count": null,
      "outputs": [
        {
          "output_type": "stream",
          "name": "stdout",
          "text": [
            "1\n"
          ]
        },
        {
          "output_type": "execute_result",
          "data": {
            "text/plain": [
              "Text(0, 0.5, 'Error Rate')"
            ]
          },
          "metadata": {},
          "execution_count": 24
        },
        {
          "output_type": "display_data",
          "data": {
            "text/plain": [
              "<Figure size 720x432 with 1 Axes>"
            ],
            "image/png": "[encoded data removed]"
          },
          "metadata": {
            "needs_background": "light"
          }
        }
      ]
    },
    {
      "cell_type": "code",
      "source": [
        "knn = KNeighborsClassifier(n_neighbors=(min))\n",
        "#train the model\n",
        "knn.fit(X_train,y_train)\n",
        "pred = knn.predict(X_test)\n",
        "print('WITH MIN K = ', min)\n",
        "print('\\n')\n",
        "#prediction \n",
        "print(confusion_matrix(y_test,pred))\n",
        "print('\\n')\n",
        "print(classification_report(y_test,pred))\n",
        "knn_accuracy = accuracy_score(y_test,pred)"
      ],
      "metadata": {
        "colab": {
          "base_uri": "https://localhost:8080/"
        },
        "id": "7Yyclys1CtRo",
        "outputId": "7ef459f7-d1fc-4b9e-9d11-29aaf8831d1e"
      },
      "execution_count": null,
      "outputs": [
        {
          "output_type": "stream",
          "name": "stdout",
          "text": [
            "WITH MIN K =  1\n",
            "\n",
            "\n",
            "[[304   0]\n",
            " [  0   4]]\n",
            "\n",
            "\n",
            "              precision    recall  f1-score   support\n",
            "\n",
            "           0       1.00      1.00      1.00       304\n",
            "           1       1.00      1.00      1.00         4\n",
            "\n",
            "    accuracy                           1.00       308\n",
            "   macro avg       1.00      1.00      1.00       308\n",
            "weighted avg       1.00      1.00      1.00       308\n",
            "\n"
          ]
        }
      ]
    },
    {
      "cell_type": "code",
      "source": [
        "from sklearn import svm\n",
        "from sklearn.svm import SVC\n",
        "clf = svm.SVC(kernel='linear')\n",
        "clf.fit(X_train, y_train)\n",
        "y_pred = clf.predict(X_test)"
      ],
      "metadata": {
        "id": "VQSaUAK4CzyB"
      },
      "execution_count": null,
      "outputs": []
    },
    {
      "cell_type": "code",
      "source": [
        "from sklearn import metrics\n",
        "print(\"Accuracy:\",metrics.accuracy_score(y_test, y_pred))"
      ],
      "metadata": {
        "colab": {
          "base_uri": "https://localhost:8080/"
        },
        "id": "Cw9X-cc4C3s9",
        "outputId": "d5b7524c-3650-421c-f5b4-9d81d06baa36"
      },
      "execution_count": null,
      "outputs": [
        {
          "output_type": "stream",
          "name": "stdout",
          "text": [
            "Accuracy: 1.0\n"
          ]
        }
      ]
    },
    {
      "cell_type": "code",
      "source": [
        "Cs = [0.001, 0.01, 0.1, 1, 10] #Hyperparameter1\n",
        "gammas = [0.001, 0.01, 0.1, 10] #Hyperparameter2\n",
        "param_grid = {'C': Cs, 'gamma' : gammas}\n",
        "svm_clf = GridSearchCV(SVC(kernel='rbf', probability=True), param_grid, cv=10)\n",
        "# train the model\n",
        "svm_clf.fit(X_train,y_train)\n",
        "svm_clf.best_params_"
      ],
      "metadata": {
        "colab": {
          "base_uri": "https://localhost:8080/"
        },
        "id": "33nl5NOGC7aR",
        "outputId": "41789ed9-e8d2-484b-aa35-d414bfc988ce"
      },
      "execution_count": null,
      "outputs": [
        {
          "output_type": "execute_result",
          "data": {
            "text/plain": [
              "{'C': 1, 'gamma': 10}"
            ]
          },
          "metadata": {},
          "execution_count": 28
        }
      ]
    },
    {
      "cell_type": "code",
      "source": [
        "#prediction\n",
        "svm_predict = svm_clf.predict(X_test)\n",
        "#accuracy\n",
        "svm_accuracy = accuracy_score(y_test,svm_predict)\n",
        "print(f\"Using SVM with RBF kernel we get an accuracy of {round(svm_accuracy*100,2)}%\")"
      ],
      "metadata": {
        "colab": {
          "base_uri": "https://localhost:8080/"
        },
        "id": "eO6E2R41DBGj",
        "outputId": "87e7fcf3-1aaa-4387-e785-3485dd7f5ae7"
      },
      "execution_count": null,
      "outputs": [
        {
          "output_type": "stream",
          "name": "stdout",
          "text": [
            "Using SVM with RBF kernel we get an accuracy of 100.0%\n"
          ]
        }
      ]
    },
    {
      "cell_type": "code",
      "source": [
        "cm=confusion_matrix(y_test,svm_predict)\n",
        "conf_matrix=pd.DataFrame(data=cm,columns=['Predicted:0','Predicted:1'],index=['Actual:0','Actual:1'])\n",
        "print(\"confusion matrix:\\n\", cm)\n",
        "print(classification_report(y_test,svm_predict))"
      ],
      "metadata": {
        "colab": {
          "base_uri": "https://localhost:8080/"
        },
        "id": "FmDSqGDTDFnV",
        "outputId": "3f3484a4-277f-4c87-b24a-dcf0163c422a"
      },
      "execution_count": null,
      "outputs": [
        {
          "output_type": "stream",
          "name": "stdout",
          "text": [
            "confusion matrix:\n",
            " [[304   0]\n",
            " [  0   4]]\n",
            "              precision    recall  f1-score   support\n",
            "\n",
            "           0       1.00      1.00      1.00       304\n",
            "           1       1.00      1.00      1.00         4\n",
            "\n",
            "    accuracy                           1.00       308\n",
            "   macro avg       1.00      1.00      1.00       308\n",
            "weighted avg       1.00      1.00      1.00       308\n",
            "\n"
          ]
        }
      ]
    },
    {
      "cell_type": "code",
      "source": [
        "from sklearn.ensemble import RandomForestClassifier\n",
        "classifier = RandomForestClassifier(n_estimators=25 ,criterion='entropy', random_state=42)\n",
        "#train the model\n",
        "classifier.fit(X_train,y_train)\n",
        "#prediction\n",
        "y_pred=classifier.predict(X_test)\n",
        "cm = confusion_matrix(y_test, y_pred)\n",
        "from sklearn.metrics import accuracy_score \n",
        "rfc_accuracy = accuracy_score(y_test, y_pred)\n",
        "print (\"Accuracy : \", accuracy_score(y_test, y_pred))\n",
        "print(\"confusion matrix:\\n\", cm)"
      ],
      "metadata": {
        "colab": {
          "base_uri": "https://localhost:8080/"
        },
        "id": "zBhqkXDPDJ9d",
        "outputId": "f935e244-562d-4226-8902-7985c3cd63e1"
      },
      "execution_count": null,
      "outputs": [
        {
          "output_type": "stream",
          "name": "stdout",
          "text": [
            "Accuracy :  1.0\n",
            "confusion matrix:\n",
            " [[304   0]\n",
            " [  0   4]]\n"
          ]
        }
      ]
    },
    {
      "cell_type": "code",
      "source": [
        "from sklearn.linear_model import LogisticRegression\n",
        "from sklearn.model_selection import GridSearchCV, StratifiedKFold\n",
        "from sklearn.metrics import confusion_matrix\n",
        "from sklearn.metrics import accuracy_score\n",
        "from sklearn.metrics import f1_score\n",
        "from sklearn.metrics import classification_report\n",
        "from sklearn.metrics import recall_score,precision_score,classification_report,roc_auc_score,roc_curve"
      ],
      "metadata": {
        "id": "OBl0kQJqDPYD"
      },
      "execution_count": null,
      "outputs": []
    },
    {
      "cell_type": "code",
      "source": [
        "lr = LogisticRegression()\n",
        "model = lr.fit(X_train, y_train)\n",
        "lr_predict = lr.predict(X_test)\n",
        "lr_conf_matrix = confusion_matrix(y_test, lr_predict)\n",
        "lr_accuracy = accuracy_score(y_test, lr_predict)\n",
        "print(\"confussion matrix\")\n",
        "print(lr_conf_matrix)\n",
        "print(\"\\n\")\n",
        "print(\"Accuracy of Logistic Regression:\",lr_accuracy*100,'\\n')\n",
        "print(classification_report(y_test,lr_predict))"
      ],
      "metadata": {
        "colab": {
          "base_uri": "https://localhost:8080/"
        },
        "id": "qNOXVtKsDUKC",
        "outputId": "2ad93c8a-ce32-47be-d67a-70fd5a6615ca"
      },
      "execution_count": null,
      "outputs": [
        {
          "output_type": "stream",
          "name": "stdout",
          "text": [
            "confussion matrix\n",
            "[[304   0]\n",
            " [  3   1]]\n",
            "\n",
            "\n",
            "Accuracy of Logistic Regression: 99.02597402597402 \n",
            "\n",
            "              precision    recall  f1-score   support\n",
            "\n",
            "           0       0.99      1.00      1.00       304\n",
            "           1       1.00      0.25      0.40         4\n",
            "\n",
            "    accuracy                           0.99       308\n",
            "   macro avg       1.00      0.62      0.70       308\n",
            "weighted avg       0.99      0.99      0.99       308\n",
            "\n"
          ]
        }
      ]
    },
    {
      "cell_type": "code",
      "source": [
        "##K folds\n",
        "from numpy import mean\n",
        "from numpy import std\n",
        "from sklearn.datasets import make_classification\n",
        "from sklearn.model_selection import RepeatedKFold\n",
        "from sklearn.model_selection import cross_val_score\n",
        "# create dataset\n",
        "X, y = make_classification(n_samples=1000, n_features=20, n_informative=15, n_redundant=5, random_state=1)\n",
        "# prepare the cross-validation procedure\n",
        "cv = RepeatedKFold(n_splits=10, n_repeats=3, random_state=1)"
      ],
      "metadata": {
        "id": "qNHSkTatDbI3"
      },
      "execution_count": null,
      "outputs": []
    },
    {
      "cell_type": "code",
      "source": [
        "##CV score for logistic regression\n",
        "model = LogisticRegression()\n",
        "# evaluate model\n",
        "scores = cross_val_score(model, X, y, scoring='accuracy', cv=cv, n_jobs=-1)\n",
        "# report performance\n",
        "cv_score_lr = scores.mean()\n",
        "print('cv_score: %.3f (%.3f)' % (mean(scores), std(scores)))"
      ],
      "metadata": {
        "colab": {
          "base_uri": "https://localhost:8080/"
        },
        "id": "82wf0KjNDhd5",
        "outputId": "c18043a8-a7ee-4a17-e9a9-706c9b7ef47a"
      },
      "execution_count": null,
      "outputs": [
        {
          "output_type": "stream",
          "name": "stdout",
          "text": [
            "cv_score: 0.867 (0.031)\n"
          ]
        }
      ]
    },
    {
      "cell_type": "code",
      "source": [
        "##CV score for Random Forest\n",
        "model = RandomForestClassifier()\n",
        "# evaluate model\n",
        "scores = cross_val_score(model, X, y, scoring='accuracy', cv=cv, n_jobs=-1)\n",
        "# report performance\n",
        "cv_score_rfc = scores.mean()\n",
        "print('cv_score: %.3f (%.3f)' % (mean(scores), std(scores)))"
      ],
      "metadata": {
        "colab": {
          "base_uri": "https://localhost:8080/"
        },
        "id": "7fUl-pnODrte",
        "outputId": "6dea300f-b1c4-4c7a-afab-ba5390c4707a"
      },
      "execution_count": null,
      "outputs": [
        {
          "output_type": "stream",
          "name": "stdout",
          "text": [
            "cv_score: 0.918 (0.032)\n"
          ]
        }
      ]
    },
    {
      "cell_type": "code",
      "source": [
        "##CV score for SVM\n",
        "clf = svm.SVC(kernel='linear', C=1, random_state=42)\n",
        "scores = cross_val_score(clf, X, y, cv=cv)\n",
        "cv_score_svm = scores.mean()\n",
        "print('cv_score: %.3f (%.3f)' % (mean(scores), std(scores)))"
      ],
      "metadata": {
        "colab": {
          "base_uri": "https://localhost:8080/"
        },
        "id": "oXpF_tydDy0u",
        "outputId": "413ae305-0909-4c88-a613-27ea057ab8fe"
      },
      "execution_count": null,
      "outputs": [
        {
          "output_type": "stream",
          "name": "stdout",
          "text": [
            "cv_score: 0.870 (0.034)\n"
          ]
        }
      ]
    },
    {
      "cell_type": "code",
      "source": [
        "##CV score for KNN\n",
        "knn_classifier = KNeighborsClassifier(n_neighbors = 18)\n",
        "score=cross_val_score(knn_classifier,X,y,cv=cv)\n",
        "cv_score_knn = score.mean()\n",
        "print('cv_score: %.3f (%.3f)' % (mean(scores), std(scores)))"
      ],
      "metadata": {
        "colab": {
          "base_uri": "https://localhost:8080/"
        },
        "id": "R27cEwaVD2G0",
        "outputId": "f8d6d5e8-17a4-4a26-e89c-a0a0eb923ea8"
      },
      "execution_count": null,
      "outputs": [
        {
          "output_type": "stream",
          "name": "stdout",
          "text": [
            "cv_score: 0.870 (0.034)\n"
          ]
        }
      ]
    },
    {
      "cell_type": "code",
      "source": [
        "##plotting cv scores of respective models\n",
        "cv_result = []\n",
        "cv_result.append(cv_score_svm)\n",
        "cv_result.append(cv_score_rfc)\n",
        "cv_result.append(cv_score_lr)\n",
        "cv_result.append(cv_score_knn)\n",
        "cv_results = pd.DataFrame(cv_result)\n",
        "print(cv_result)\n",
        "cv_results = pd.DataFrame({\"Cross Validation Means\":cv_result, \"ML Models\":[ \"SVC\", \"RandomForestClassifier\", \"LogisticRegression\", \"KNeigborsClassifier\"]})\n",
        "\n",
        "g = sns.barplot(x=\"Cross Validation Means\", y = \"ML Models\", data=cv_results)\n",
        "g.set_xlabel(\"Means Accuracy\")\n",
        "g.set_title(\"Cross Validation Scores\")\n",
        "plt.show()"
      ],
      "metadata": {
        "colab": {
          "base_uri": "https://localhost:8080/",
          "height": 312
        },
        "id": "3fJgHJVhD6Ff",
        "outputId": "a09bf69c-5181-4080-fe17-56fc6d918170"
      },
      "execution_count": null,
      "outputs": [
        {
          "output_type": "stream",
          "name": "stdout",
          "text": [
            "[0.87, 0.9183333333333333, 0.8673333333333334, 0.9233333333333335]\n"
          ]
        },
        {
          "output_type": "display_data",
          "data": {
            "text/plain": [
              "<Figure size 432x288 with 1 Axes>"
            ],
            "image/png": "[encoded data removed]"
          },
          "metadata": {
            "needs_background": "light"
          }
        }
      ]
    },
    {
      "cell_type": "code",
      "source": [
        "comparison = pd.DataFrame({\n",
        "    \"Logistic regression \":{'Accuracy': lr_accuracy},\n",
        "    \"K-nearest neighbours \":{'Accuracy':knn_accuracy},\n",
        "    \"Random Forest \":{'Accuracy':rfc_accuracy},\n",
        "    \"Support vector machine \":{'Accuracy':svm_accuracy}\n",
        "}).T\n",
        "fig = plt.gcf()\n",
        "fig.set_size_inches(15, 15)\n",
        "titles = ['Accuracy']\n",
        "for title,label in enumerate(comparison.columns):\n",
        "    plt.subplot(2,2,title+1)\n",
        "    sns.barplot(x=comparison.index, y = comparison[label], data=comparison)\n",
        "    plt.xticks(fontsize=10)\n",
        "    plt.title(titles[title])\n",
        "plt.show()"
      ],
      "metadata": {
        "colab": {
          "base_uri": "https://localhost:8080/",
          "height": 435
        },
        "id": "AHfkOobxEAJg",
        "outputId": "149ec268-d5c2-47d1-9244-a4fdbd303eaa"
      },
      "execution_count": null,
      "outputs": [
        {
          "output_type": "display_data",
          "data": {
            "text/plain": [
              "<Figure size 1080x1080 with 1 Axes>"
            ],
            "image/png": "[encoded data removed]"
          },
          "metadata": {
            "needs_background": "light"
          }
        }
      ]
    },
    {
      "cell_type": "code",
      "source": [
        ""
      ],
      "metadata": {
        "id": "jHPBhRrqEEME"
      },
      "execution_count": null,
      "outputs": []
    }
  ]
}